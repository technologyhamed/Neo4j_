{
  "cells": [
    {
      "cell_type": "markdown",
      "metadata": {
        "id": "view-in-github",
        "colab_type": "text"
      },
      "source": [
        "<a href=\"https://colab.research.google.com/github/technologyhamed/Neo4j_/blob/main/Yfiles/examples/feature_example.ipynb\" target=\"_parent\"><img src=\"https://colab.research.google.com/assets/colab-badge.svg\" alt=\"Open In Colab\"/></a>"
      ]
    },
    {
      "cell_type": "markdown",
      "id": "8778641ccdd52ee5",
      "metadata": {
        "id": "8778641ccdd52ee5"
      },
      "source": [
        "# Features <a target=\"_blank\" href=\"https://colab.research.google.com/github/yWorks/yfiles-jupyter-graphs-for-neo4j/blob/main/examples/feature_example.ipynb\"><img src=\"https://colab.research.google.com/assets/colab-badge.svg\" alt=\"Open In Colab\"/></a>\n",
        "\n",
        "This notebook showcases some of the various features of `yfiles-jupyter-graphs-for-neo4j`.\n",
        "\n",
        "For a detailed description for the different mappings, check out the widget [documentation](https://yworks.github.io/yfiles-jupyter-graphs/)\n"
      ]
    },
    {
      "cell_type": "code",
      "execution_count": null,
      "id": "547d100c-0e8c-4600-875d-33877fbea626",
      "metadata": {
        "id": "547d100c-0e8c-4600-875d-33877fbea626"
      },
      "outputs": [],
      "source": [
        "%pip install yfiles_jupyter_graphs_for_neo4j --quiet\n",
        "%pip install neo4j --quiet"
      ]
    },
    {
      "cell_type": "markdown",
      "id": "698b0bf0-118e-4f23-95b5-a8f1c7b2774f",
      "metadata": {
        "id": "698b0bf0-118e-4f23-95b5-a8f1c7b2774f"
      },
      "source": [
        "You can also open this notebook in Google Colab when Google Colab's custom widget manager is enabled:"
      ]
    },
    {
      "cell_type": "code",
      "execution_count": null,
      "id": "91c4e84f-a1b5-43c2-ad7f-80581e3ae26a",
      "metadata": {
        "id": "91c4e84f-a1b5-43c2-ad7f-80581e3ae26a"
      },
      "outputs": [],
      "source": [
        "try:\n",
        "  import google.colab\n",
        "  from google.colab import output\n",
        "  output.enable_custom_widget_manager()\n",
        "except:\n",
        "  pass"
      ]
    },
    {
      "cell_type": "markdown",
      "id": "da7913db-4807-4631-a82c-a09ab6999383",
      "metadata": {
        "id": "da7913db-4807-4631-a82c-a09ab6999383"
      },
      "source": [
        "<a target=\"_blank\" href=\"https://colab.research.google.com/github/yWorks/yfiles-jupyter-graphs-for-neo4j/blob/main/examples/feature_example.ipynb\"><img src=\"https://colab.research.google.com/assets/colab-badge.svg\" alt=\"Open In Colab\"/></a>"
      ]
    },
    {
      "cell_type": "markdown",
      "id": "4f84e6a7-616d-400c-a297-c9d6c67932b9",
      "metadata": {
        "id": "4f84e6a7-616d-400c-a297-c9d6c67932b9"
      },
      "source": [
        "## Connect to the database"
      ]
    },
    {
      "cell_type": "code",
      "execution_count": 3,
      "id": "1b30c433-5541-4bb5-8dc6-631987280e5f",
      "metadata": {
        "id": "1b30c433-5541-4bb5-8dc6-631987280e5f"
      },
      "outputs": [],
      "source": [
        "from yfiles_jupyter_graphs_for_neo4j import Neo4jGraphWidget\n",
        "from neo4j import GraphDatabase\n",
        "\n",
        "NEO4J_URI      = \"neo4j+ssc://demo.neo4jlabs.com\"\n",
        "NEO4J_USERNAME = \"fincen\"\n",
        "NEO4J_PASSWORD = \"fincen\"\n",
        "driver = GraphDatabase.driver(uri = NEO4J_URI, auth = (NEO4J_USERNAME, NEO4J_PASSWORD), database = \"fincen\")\n",
        "\n",
        "g = Neo4jGraphWidget(driver)"
      ]
    },
    {
      "cell_type": "markdown",
      "id": "2c8fb293-c638-4a5a-b321-eeb4907b6432",
      "metadata": {
        "id": "2c8fb293-c638-4a5a-b321-eeb4907b6432"
      },
      "source": [
        "## Use heat mapping"
      ]
    },
    {
      "cell_type": "code",
      "execution_count": 8,
      "id": "ebdabe1b-6503-49a7-8039-8d469b4caeea",
      "metadata": {
        "colab": {
          "base_uri": "https://localhost:8080/",
          "height": 707,
          "referenced_widgets": [
            "9dcf351400da44a28d78e531161d100a",
            "2c01b7e7860642b49f917438f01aff72"
          ]
        },
        "id": "ebdabe1b-6503-49a7-8039-8d469b4caeea",
        "outputId": "233be348-0bff-424a-8db2-f7187a161682"
      },
      "outputs": [
        {
          "output_type": "display_data",
          "data": {
            "text/plain": [
              "GraphWidget(layout=Layout(height='690px', width='100%'))"
            ],
            "application/vnd.jupyter.widget-view+json": {
              "version_major": 2,
              "version_minor": 0,
              "model_id": "9dcf351400da44a28d78e531161d100a"
            }
          },
          "metadata": {
            "application/vnd.jupyter.widget-view+json": {
              "colab": {
                "custom_widget_manager": {
                  "url": "https://ssl.gstatic.com/colaboratory-static/widgets/colab-cdn-widget-manager/2b70e893a8ba7c0f/manager.min.js"
                }
              }
            }
          }
        }
      ],
      "source": [
        "max_amount = 120000000\n",
        "min_amount = 50000\n",
        "\n",
        "def heat_mapping(element):\n",
        "    if \"amount\" in element[\"properties\"]:\n",
        "        amount = element[\"properties\"][\"amount\"]\n",
        "        normalized_value = (amount - min_amount) / (max_amount - min_amount)\n",
        "        transformed_value = -1 * (1 - normalized_value) ** 2 + 1\n",
        "        return max(0, min(1, transformed_value))\n",
        "\n",
        "g.add_node_configuration(\"Filing\", heat=heat_mapping)\n",
        "\n",
        "g.show_cypher(\"MATCH (s)-[r]->(t) RETURN s,r,t LIMIT 25\")"
      ]
    },
    {
      "cell_type": "markdown",
      "id": "41002892-a638-4544-842b-1881287d04e0",
      "metadata": {
        "id": "41002892-a638-4544-842b-1881287d04e0"
      },
      "source": [
        "## Visualize geospatial data"
      ]
    },
    {
      "cell_type": "code",
      "execution_count": 9,
      "id": "3f9de7f7-bacc-4c5b-989e-ed4211584725",
      "metadata": {
        "colab": {
          "base_uri": "https://localhost:8080/",
          "height": 817,
          "referenced_widgets": [
            "4b194c5686574b50b1388b536d46ab7e",
            "edd7f6629c6f4130a300dbc1f45f7fd7"
          ]
        },
        "id": "3f9de7f7-bacc-4c5b-989e-ed4211584725",
        "outputId": "8a615bfe-0308-48f3-c39a-f1e9e538f426"
      },
      "outputs": [
        {
          "output_type": "display_data",
          "data": {
            "text/plain": [
              "GraphWidget(layout=Layout(height='800px', width='100%'))"
            ],
            "application/vnd.jupyter.widget-view+json": {
              "version_major": 2,
              "version_minor": 0,
              "model_id": "4b194c5686574b50b1388b536d46ab7e"
            }
          },
          "metadata": {
            "application/vnd.jupyter.widget-view+json": {
              "colab": {
                "custom_widget_manager": {
                  "url": "https://ssl.gstatic.com/colaboratory-static/widgets/colab-cdn-widget-manager/2b70e893a8ba7c0f/manager.min.js"
                }
              }
            }
          }
        }
      ],
      "source": [
        "def node_coordinate_mapping(node):\n",
        "    return (node[\"properties\"][\"location\"][\"y\"], node[\"properties\"][\"location\"][\"x\"]) if \"location\" in node[\"properties\"].keys() else None\n",
        "\n",
        "def filing_coordinate_mapping(node):\n",
        "    return (node[\"properties\"][\"beneficiary_lat\"], (node[\"properties\"][\"beneficiary_lng\"])) if \"beneficiary_lat\" in node[\"properties\"].keys() else None\n",
        "\n",
        "g.add_node_configuration([\"Country\", \"Entity\"], coordinate=node_coordinate_mapping)\n",
        "g.add_node_configuration(\"Filing\", coordinate=filing_coordinate_mapping)\n",
        "\n",
        "g.show_cypher(\"MATCH (s)-[r]->(t) RETURN s,r,t LIMIT 50\", layout=\"map\")"
      ]
    },
    {
      "cell_type": "markdown",
      "id": "3879ccf9-4223-41bd-ae38-d4b726097413",
      "metadata": {
        "id": "3879ccf9-4223-41bd-ae38-d4b726097413"
      },
      "source": [
        "## Configure item visualization"
      ]
    },
    {
      "cell_type": "code",
      "execution_count": 11,
      "id": "de1ca154-7735-476e-920b-d5b45b61a5ac",
      "metadata": {
        "colab": {
          "base_uri": "https://localhost:8080/",
          "height": 707,
          "referenced_widgets": [
            "7abbd8bfb00a47b6a2418965dfc54bb8",
            "8756ed9260ac44d4935bbc5231b626d3"
          ]
        },
        "id": "de1ca154-7735-476e-920b-d5b45b61a5ac",
        "outputId": "a7c01206-22e5-4611-ef35-9793b31e8d14"
      },
      "outputs": [
        {
          "output_type": "display_data",
          "data": {
            "text/plain": [
              "GraphWidget(layout=Layout(height='690px', width='100%'))"
            ],
            "application/vnd.jupyter.widget-view+json": {
              "version_major": 2,
              "version_minor": 0,
              "model_id": "7abbd8bfb00a47b6a2418965dfc54bb8"
            }
          },
          "metadata": {
            "application/vnd.jupyter.widget-view+json": {
              "colab": {
                "custom_widget_manager": {
                  "url": "https://ssl.gstatic.com/colaboratory-static/widgets/colab-cdn-widget-manager/2b70e893a8ba7c0f/manager.min.js"
                }
              }
            }
          }
        }
      ],
      "source": [
        "\n",
        "g.add_relationship_configuration(\"CONCERNS\", thickness_factor= 0.5)\n",
        "g.add_relationship_configuration(\"FILED\", thickness_factor= 2)\n",
        "g.del_node_configuration(\"Entity\")\n",
        "g.add_node_configuration(\"Filing\", size= lambda node:  (55 * (1 + heat_mapping(node)), 55 * (1 + heat_mapping(node))))\n",
        "\n",
        "g.show_cypher(\"MATCH (s)-[r]->(t) RETURN s,r,t LIMIT 25\")"
      ]
    },
    {
      "cell_type": "markdown",
      "id": "7484387b-5b1e-429d-afa2-7df01bd3b4e2",
      "metadata": {
        "id": "7484387b-5b1e-429d-afa2-7df01bd3b4e2"
      },
      "source": [
        "## Configure grouping\n",
        "\n",
        "The widget supports various grouping options, see [grouping.ipynb](./grouping.ipynb) for more details."
      ]
    },
    {
      "cell_type": "code",
      "execution_count": null,
      "id": "c70e5897-c369-4132-8c30-5e7a2c712ed9",
      "metadata": {
        "id": "c70e5897-c369-4132-8c30-5e7a2c712ed9"
      },
      "outputs": [],
      "source": [
        "# replaces \"COUNTRY\" relationships with a grouped hierarchy\n",
        "g.add_parent_relationship_configuration(\"COUNTRY\")\n",
        "\n",
        "g.show_cypher(\"MATCH (s)-[r]->(t) RETURN s,r,t LIMIT 25\")"
      ]
    },
    {
      "cell_type": "markdown",
      "id": "58927c27-4a76-4835-bd6e-f0dd0f2fce04",
      "metadata": {
        "id": "58927c27-4a76-4835-bd6e-f0dd0f2fce04"
      },
      "source": [
        "## Configure node-to-cell mapping\n",
        "\n",
        "The node-to-cell mapping allows to fine-tune layout results by assigning preferred cell constraints for specific nodes.\n",
        "\n",
        "This is particularly useful to highlight specific items structurally aside from visual features like color or size."
      ]
    },
    {
      "cell_type": "code",
      "execution_count": null,
      "id": "77d47bf2-5f34-4034-ad40-cb0c32a63fee",
      "metadata": {
        "id": "77d47bf2-5f34-4034-ad40-cb0c32a63fee"
      },
      "outputs": [],
      "source": [
        "g.del_parent_relationship_configuration(\"COUNTRY\")\n",
        "\n",
        "# highlight Bank of New York and China Construction Bank\n",
        "def get_cell_mapping(node):\n",
        "    name = node[\"properties\"].get(\"name\")\n",
        "    if name == \"The Bank of New York Mellon Corp.\" or name == \"China Construction Bank Corporation\":\n",
        "        return (0,0)\n",
        "    return (1,0)\n",
        "\n",
        "g.node_cell_mapping = get_cell_mapping\n",
        "\n",
        "# layouts interpret node-to-cell mapping differently\n",
        "g.show_cypher(\"MATCH (s)-[r]->(t) RETURN s,r,t LIMIT 25\", layout='hierarchic')"
      ]
    }
  ],
  "metadata": {
    "kernelspec": {
      "display_name": "Python 3 (ipykernel)",
      "language": "python",
      "name": "python3"
    },
    "language_info": {
      "codemirror_mode": {
        "name": "ipython",
        "version": 3
      },
      "file_extension": ".py",
      "mimetype": "text/x-python",
      "name": "python",
      "nbconvert_exporter": "python",
      "pygments_lexer": "ipython3",
      "version": "3.9.19"
    },
    "colab": {
      "provenance": [],
      "include_colab_link": true
    },
    "widgets": {
      "application/vnd.jupyter.widget-state+json": {
        "9dcf351400da44a28d78e531161d100a": {
          "model_module": "yfiles-jupyter-graphs",
          "model_name": "GraphModel",
          "model_module_version": "^1.10.1",
          "state": {
            "_context_pane_mapping": [
              {
                "id": "Neighborhood",
                "title": "Neighborhood"
              },
              {
                "id": "Data",
                "title": "Data"
              },
              {
                "id": "Search",
                "title": "Search"
              },
              {
                "id": "About",
                "title": "About"
              }
            ],
            "_data_importer": "neo4j",
            "_directed": true,
            "_dom_classes": [],
            "_edges": [
              {
                "id": 0,
                "start": 5056,
                "end": 2645,
                "properties": {
                  "label": "FILED"
                },
                "color": "#607D8B",
                "thickness_factor": 1,
                "directed": true,
                "styles": {},
                "label": "FILED"
              },
              {
                "id": 1,
                "start": 2645,
                "end": 5068,
                "properties": {
                  "label": "CONCERNS"
                },
                "color": "#673AB7",
                "thickness_factor": 1,
                "directed": true,
                "styles": {},
                "label": "CONCERNS"
              },
              {
                "id": 2,
                "start": 5068,
                "end": 338,
                "properties": {
                  "label": "COUNTRY"
                },
                "color": "#CDDC39",
                "thickness_factor": 1,
                "directed": true,
                "styles": {},
                "label": "COUNTRY"
              },
              {
                "id": 3,
                "start": 5056,
                "end": 2646,
                "properties": {
                  "label": "FILED"
                },
                "color": "#607D8B",
                "thickness_factor": 1,
                "directed": true,
                "styles": {},
                "label": "FILED"
              },
              {
                "id": 4,
                "start": 2646,
                "end": 5068,
                "properties": {
                  "label": "CONCERNS"
                },
                "color": "#673AB7",
                "thickness_factor": 1,
                "directed": true,
                "styles": {},
                "label": "CONCERNS"
              },
              {
                "id": 5,
                "start": 5056,
                "end": 2647,
                "properties": {
                  "label": "FILED"
                },
                "color": "#607D8B",
                "thickness_factor": 1,
                "directed": true,
                "styles": {},
                "label": "FILED"
              },
              {
                "id": 6,
                "start": 2647,
                "end": 5068,
                "properties": {
                  "label": "CONCERNS"
                },
                "color": "#673AB7",
                "thickness_factor": 1,
                "directed": true,
                "styles": {},
                "label": "CONCERNS"
              },
              {
                "id": 7,
                "start": 5056,
                "end": 2648,
                "properties": {
                  "label": "FILED"
                },
                "color": "#607D8B",
                "thickness_factor": 1,
                "directed": true,
                "styles": {},
                "label": "FILED"
              },
              {
                "id": 8,
                "start": 2648,
                "end": 5068,
                "properties": {
                  "label": "CONCERNS"
                },
                "color": "#673AB7",
                "thickness_factor": 1,
                "directed": true,
                "styles": {},
                "label": "CONCERNS"
              },
              {
                "id": 9,
                "start": 5056,
                "end": 2649,
                "properties": {
                  "label": "FILED"
                },
                "color": "#607D8B",
                "thickness_factor": 1,
                "directed": true,
                "styles": {},
                "label": "FILED"
              },
              {
                "id": 10,
                "start": 2649,
                "end": 5068,
                "properties": {
                  "label": "CONCERNS"
                },
                "color": "#673AB7",
                "thickness_factor": 1,
                "directed": true,
                "styles": {},
                "label": "CONCERNS"
              },
              {
                "id": 11,
                "start": 5056,
                "end": 2650,
                "properties": {
                  "label": "FILED"
                },
                "color": "#607D8B",
                "thickness_factor": 1,
                "directed": true,
                "styles": {},
                "label": "FILED"
              },
              {
                "id": 12,
                "start": 2650,
                "end": 5068,
                "properties": {
                  "label": "CONCERNS"
                },
                "color": "#673AB7",
                "thickness_factor": 1,
                "directed": true,
                "styles": {},
                "label": "CONCERNS"
              },
              {
                "id": 13,
                "start": 5056,
                "end": 2651,
                "properties": {
                  "label": "FILED"
                },
                "color": "#607D8B",
                "thickness_factor": 1,
                "directed": true,
                "styles": {},
                "label": "FILED"
              },
              {
                "id": 14,
                "start": 2651,
                "end": 5068,
                "properties": {
                  "label": "CONCERNS"
                },
                "color": "#673AB7",
                "thickness_factor": 1,
                "directed": true,
                "styles": {},
                "label": "CONCERNS"
              },
              {
                "id": 15,
                "start": 5056,
                "end": 2652,
                "properties": {
                  "label": "FILED"
                },
                "color": "#607D8B",
                "thickness_factor": 1,
                "directed": true,
                "styles": {},
                "label": "FILED"
              },
              {
                "id": 16,
                "start": 2652,
                "end": 5068,
                "properties": {
                  "label": "CONCERNS"
                },
                "color": "#673AB7",
                "thickness_factor": 1,
                "directed": true,
                "styles": {},
                "label": "CONCERNS"
              },
              {
                "id": 17,
                "start": 5056,
                "end": 2653,
                "properties": {
                  "label": "FILED"
                },
                "color": "#607D8B",
                "thickness_factor": 1,
                "directed": true,
                "styles": {},
                "label": "FILED"
              },
              {
                "id": 18,
                "start": 2653,
                "end": 5068,
                "properties": {
                  "label": "CONCERNS"
                },
                "color": "#673AB7",
                "thickness_factor": 1,
                "directed": true,
                "styles": {},
                "label": "CONCERNS"
              },
              {
                "id": 19,
                "start": 5057,
                "end": 2263,
                "properties": {
                  "label": "FILED"
                },
                "color": "#607D8B",
                "thickness_factor": 1,
                "directed": true,
                "styles": {},
                "label": "FILED"
              },
              {
                "id": 20,
                "start": 2263,
                "end": 5069,
                "properties": {
                  "label": "CONCERNS"
                },
                "color": "#673AB7",
                "thickness_factor": 1,
                "directed": true,
                "styles": {},
                "label": "CONCERNS"
              },
              {
                "id": 21,
                "start": 5069,
                "end": 350,
                "properties": {
                  "label": "COUNTRY"
                },
                "color": "#CDDC39",
                "thickness_factor": 1,
                "directed": true,
                "styles": {},
                "label": "COUNTRY"
              },
              {
                "id": 22,
                "start": 5056,
                "end": 549,
                "properties": {
                  "label": "FILED"
                },
                "color": "#607D8B",
                "thickness_factor": 1,
                "directed": true,
                "styles": {},
                "label": "FILED"
              },
              {
                "id": 23,
                "start": 549,
                "end": 5070,
                "properties": {
                  "label": "CONCERNS"
                },
                "color": "#673AB7",
                "thickness_factor": 1,
                "directed": true,
                "styles": {},
                "label": "CONCERNS"
              },
              {
                "id": 24,
                "start": 5070,
                "end": 454,
                "properties": {
                  "label": "COUNTRY"
                },
                "color": "#CDDC39",
                "thickness_factor": 1,
                "directed": true,
                "styles": {},
                "label": "COUNTRY"
              }
            ],
            "_graph_layout": {
              "algorithm": "organic",
              "options": {}
            },
            "_highlight": [],
            "_license": {},
            "_model_module": "yfiles-jupyter-graphs",
            "_model_module_version": "^1.10.1",
            "_model_name": "GraphModel",
            "_neighborhood": {},
            "_nodes": [
              {
                "id": 5056,
                "properties": {
                  "name": "The Bank of New York Mellon Corp.",
                  "location": {
                    "x": -73.987862,
                    "y": 40.777571,
                    "z": 0
                  },
                  "id": "the-bank-of-new-york-mellon-corp",
                  "label": "Entity"
                },
                "color": "#2196F3",
                "styles": {},
                "label": "The Bank of New York Mellon Corp.",
                "scale_factor": 1,
                "type": "#2196F3",
                "size": [
                  55,
                  55
                ],
                "position": [
                  0,
                  0
                ],
                "coordinates": [
                  40.777571,
                  -73.987862
                ]
              },
              {
                "id": 2645,
                "properties": {
                  "end_date": "Oct 13, 2015",
                  "amount": 2741500,
                  "beneficiary_iso": "SGP",
                  "beneficiary_lng": "103.8",
                  "begin_date": "Oct 2, 2015",
                  "originator_bank": "HSBC Hong Kong",
                  "beneficiary_lat": "1.3667",
                  "begin_date_format": "2015-10-02T00:00:00Z",
                  "originator_iso": "HKG",
                  "beneficiary_bank_id": "dbs-bank-ltd-singapore-sgp",
                  "end_date_format": "2015-10-13T00:00:00Z",
                  "origin_lat": "22.25",
                  "number": 4,
                  "filer_org_name": "The Bank of New York Mellon Corp.",
                  "originator_bank_country": "Hong Kong",
                  "beneficiary_bank": "DBS Bank Ltd",
                  "beneficiary_bank_country": "Singapore",
                  "filer_org_name_id": "the-bank-of-new-york-mellon-corp",
                  "end": "2015-10-13T00:00:00.000000",
                  "origin_lng": "114.1667",
                  "originator_bank_id": "hsbc-hong-kong",
                  "id": "234293",
                  "begin": "2015-10-02T00:00:00.000000",
                  "sar_id": "4293",
                  "label": "Filing"
                },
                "color": "#4CAF50",
                "styles": {},
                "label": "Filing",
                "scale_factor": 1,
                "type": "#4CAF50",
                "size": [
                  55,
                  55
                ],
                "position": [
                  0,
                  0
                ],
                "heat": 0.04437354509425473
              },
              {
                "id": 5068,
                "properties": {
                  "country": "CHN",
                  "name": "China Construction Bank Corporation",
                  "location": {
                    "x": 105,
                    "y": 35,
                    "z": 0
                  },
                  "id": "china-construction-bank-corporation-beijing-china-chn",
                  "label": "Entity"
                },
                "color": "#2196F3",
                "styles": {},
                "label": "China Construction Bank Corporation",
                "scale_factor": 1,
                "type": "#2196F3",
                "size": [
                  55,
                  55
                ],
                "position": [
                  0,
                  0
                ],
                "coordinates": [
                  35,
                  105
                ]
              },
              {
                "id": 338,
                "properties": {
                  "code": "CHN",
                  "name": "China",
                  "location": {
                    "x": 105,
                    "y": 35,
                    "z": 0
                  },
                  "tld": "CN",
                  "label": "Country"
                },
                "color": "#F44336",
                "styles": {},
                "label": "China",
                "scale_factor": 1,
                "type": "#F44336",
                "size": [
                  55,
                  55
                ],
                "position": [
                  0,
                  0
                ],
                "coordinates": [
                  35,
                  105
                ]
              },
              {
                "id": 2646,
                "properties": {
                  "end_date": "Oct 27, 2015",
                  "amount": 3240000,
                  "beneficiary_iso": "SGP",
                  "beneficiary_lng": "103.8",
                  "begin_date": "Oct 27, 2015",
                  "originator_bank": "Bank of Taiwan",
                  "beneficiary_lat": "1.3667",
                  "begin_date_format": "2015-10-27T00:00:00Z",
                  "beneficiary_bank_id": "dbs-bank-ltd-singapore-sgp",
                  "end_date_format": "2015-10-27T00:00:00Z",
                  "originator_iso": "TWN",
                  "origin_lat": "23.5",
                  "number": 1,
                  "filer_org_name": "The Bank of New York Mellon Corp.",
                  "originator_bank_country": "Taiwan",
                  "beneficiary_bank_country": "Singapore",
                  "filer_org_name_id": "the-bank-of-new-york-mellon-corp",
                  "beneficiary_bank": "DBS Bank Ltd",
                  "end": "2015-10-27T00:00:00.000000",
                  "origin_lng": "121",
                  "originator_bank_id": "bank-of-taiwan",
                  "id": "234294",
                  "begin": "2015-10-27T00:00:00.000000",
                  "sar_id": "4293",
                  "label": "Filing"
                },
                "color": "#4CAF50",
                "styles": {},
                "label": "Filing",
                "scale_factor": 1,
                "type": "#4CAF50",
                "size": [
                  55,
                  55
                ],
                "position": [
                  0,
                  0
                ],
                "heat": 0.05248156580456542
              },
              {
                "id": 2647,
                "properties": {
                  "end_date": "Oct 23, 2015",
                  "amount": 3397070,
                  "beneficiary_iso": "CZE",
                  "beneficiary_lng": "15.5",
                  "begin_date": "Oct 23, 2015",
                  "originator_bank": "J And T Bank And Trust",
                  "beneficiary_lat": "49.75",
                  "begin_date_format": "2015-10-23T00:00:00Z",
                  "beneficiary_bank_id": "ppf-banka-as-prague-czech-republic-cze",
                  "end_date_format": "2015-10-23T00:00:00Z",
                  "originator_iso": "BRB",
                  "origin_lat": "13.1667",
                  "number": 1,
                  "filer_org_name": "The Bank of New York Mellon Corp.",
                  "originator_bank_country": "Barbados",
                  "beneficiary_bank": "PPF Banka A.S.",
                  "beneficiary_bank_country": "Czech Republic",
                  "filer_org_name_id": "the-bank-of-new-york-mellon-corp",
                  "end": "2015-10-23T00:00:00.000000",
                  "origin_lng": "-59.5333",
                  "originator_bank_id": "j-and-t-bank-and-trust",
                  "id": "234295",
                  "begin": "2015-10-23T00:00:00.000000",
                  "sar_id": "4293",
                  "label": "Filing"
                },
                "color": "#4CAF50",
                "styles": {},
                "label": "Filing",
                "scale_factor": 1,
                "type": "#4CAF50",
                "size": [
                  55,
                  55
                ],
                "position": [
                  0,
                  0
                ],
                "heat": 0.05502912690035333
              },
              {
                "id": 2648,
                "properties": {
                  "end_date": "Oct 15, 2015",
                  "amount": 3500000,
                  "beneficiary_iso": "CHN",
                  "beneficiary_lng": "105",
                  "begin_date": "Oct 7, 2015",
                  "originator_bank": "Taishin International Bank",
                  "beneficiary_lat": "35",
                  "begin_date_format": "2015-10-07T00:00:00Z",
                  "end_date_format": "2015-10-15T00:00:00Z",
                  "originator_iso": "TWN",
                  "beneficiary_bank_id": "foshan-shunde-rural-commercial-bk-co-ltd-shunde-china-chn",
                  "origin_lat": "23.5",
                  "number": 3,
                  "filer_org_name": "The Bank of New York Mellon Corp.",
                  "originator_bank_country": "Taiwan",
                  "beneficiary_bank": "Foshan Shunde Rural Commercial Bk Co Ltd",
                  "beneficiary_bank_country": "China",
                  "filer_org_name_id": "the-bank-of-new-york-mellon-corp",
                  "end": "2015-10-15T00:00:00.000000",
                  "origin_lng": "121",
                  "originator_bank_id": "taishin-international-bank",
                  "id": "234296",
                  "begin": "2015-10-07T00:00:00.000000",
                  "sar_id": "4293",
                  "label": "Filing"
                },
                "color": "#4CAF50",
                "styles": {},
                "label": "Filing",
                "scale_factor": 1,
                "type": "#4CAF50",
                "size": [
                  55,
                  55
                ],
                "position": [
                  0,
                  0
                ],
                "heat": 0.05669671658730946
              },
              {
                "id": 2649,
                "properties": {
                  "end_date": "Oct 29, 2015",
                  "amount": 3561111.36,
                  "beneficiary_iso": "CHN",
                  "beneficiary_lng": "105",
                  "begin_date": "Oct 13, 2015",
                  "originator_bank": "CTBC Bank Co Ltd",
                  "beneficiary_lat": "35",
                  "begin_date_format": "2015-10-13T00:00:00Z",
                  "beneficiary_bank_id": "china-construction-bank-corporation-guangdong-china-chn",
                  "end_date_format": "2015-10-29T00:00:00Z",
                  "originator_iso": "HKG",
                  "origin_lat": "22.25",
                  "number": 3,
                  "filer_org_name": "The Bank of New York Mellon Corp.",
                  "originator_bank_country": "Hong Kong",
                  "beneficiary_bank": "China Construction Bank Corporation",
                  "filer_org_name_id": "the-bank-of-new-york-mellon-corp",
                  "beneficiary_bank_country": "China",
                  "end": "2015-10-29T00:00:00.000000",
                  "origin_lng": "114.1667",
                  "originator_bank_id": "ctbc-bank-co-ltd",
                  "id": "234297",
                  "begin": "2015-10-13T00:00:00.000000",
                  "sar_id": "4293",
                  "label": "Filing"
                },
                "color": "#4CAF50",
                "styles": {},
                "label": "Filing",
                "scale_factor": 1,
                "type": "#4CAF50",
                "size": [
                  55,
                  55
                ],
                "position": [
                  0,
                  0
                ],
                "heat": 0.05768609730792562
              },
              {
                "id": 2650,
                "properties": {
                  "end_date": "Oct 29, 2015",
                  "amount": 2993552.18,
                  "beneficiary_iso": "CHN",
                  "beneficiary_lng": "105",
                  "begin_date": "Oct 27, 2015",
                  "originator_bank": "SCSB Savings Department Branch",
                  "beneficiary_lat": "35",
                  "begin_date_format": "2015-10-27T00:00:00Z",
                  "beneficiary_bank_id": "ping-an-bank-co-ltd-east-shenzhen-china-chn",
                  "originator_iso": "TWN",
                  "end_date_format": "2015-10-29T00:00:00Z",
                  "origin_lat": "23.5",
                  "number": 3,
                  "filer_org_name": "The Bank of New York Mellon Corp.",
                  "originator_bank_country": "Taiwan",
                  "beneficiary_bank": "Ping An Bank Co Ltd",
                  "filer_org_name_id": "the-bank-of-new-york-mellon-corp",
                  "beneficiary_bank_country": "China",
                  "end": "2015-10-29T00:00:00.000000",
                  "origin_lng": "121",
                  "originator_bank_id": "scsb-savings-department-branch",
                  "id": "234298",
                  "begin": "2015-10-27T00:00:00.000000",
                  "sar_id": "4293",
                  "label": "Filing"
                },
                "color": "#4CAF50",
                "styles": {},
                "label": "Filing",
                "scale_factor": 1,
                "type": "#4CAF50",
                "size": [
                  55,
                  55
                ],
                "position": [
                  0,
                  0
                ],
                "heat": 0.04847744977425572
              },
              {
                "id": 2651,
                "properties": {
                  "end_date": "Oct 9, 2015",
                  "amount": 5870272.71,
                  "beneficiary_lng": "103.8",
                  "beneficiary_iso": "SGP",
                  "begin_date": "Oct 5, 2015",
                  "originator_bank": "HSBC Singapore General Account",
                  "beneficiary_lat": "1.3667",
                  "begin_date_format": "2015-10-05T00:00:00Z",
                  "beneficiary_bank_id": "dbs-bank-ltd-singapore-sgp",
                  "end_date_format": "2015-10-09T00:00:00Z",
                  "originator_iso": "SGP",
                  "origin_lat": "1.3667",
                  "number": 3,
                  "filer_org_name": "The Bank of New York Mellon Corp.",
                  "originator_bank_country": "Singapore",
                  "beneficiary_bank_country": "Singapore",
                  "filer_org_name_id": "the-bank-of-new-york-mellon-corp",
                  "beneficiary_bank": "DBS Bank Ltd",
                  "end": "2015-10-09T00:00:00.000000",
                  "origin_lng": "103.8",
                  "originator_bank_id": "hsbc-singapore-general-account",
                  "id": "234300",
                  "begin": "2015-10-05T00:00:00.000000",
                  "sar_id": "4293",
                  "label": "Filing"
                },
                "color": "#4CAF50",
                "styles": {},
                "label": "Filing",
                "scale_factor": 1,
                "type": "#4CAF50",
                "size": [
                  55,
                  55
                ],
                "position": [
                  0,
                  0
                ],
                "heat": 0.09469054851152747
              },
              {
                "id": 2652,
                "properties": {
                  "end_date": "Oct 23, 2015",
                  "amount": 4967922.12,
                  "beneficiary_iso": "NOR",
                  "beneficiary_lng": "10",
                  "begin_date": "Oct 23, 2015",
                  "originator_bank": "Bank of Communications",
                  "beneficiary_lat": "62",
                  "begin_date_format": "2015-10-23T00:00:00Z",
                  "beneficiary_bank_id": "skandinaviska-enskilda-banken-oslo-norway-nor",
                  "end_date_format": "2015-10-23T00:00:00Z",
                  "originator_iso": "HKG",
                  "origin_lat": "22.25",
                  "number": 2,
                  "filer_org_name": "The Bank of New York Mellon Corp.",
                  "originator_bank_country": "Hong Kong",
                  "beneficiary_bank": "Skandinaviska Enskilda Banken",
                  "filer_org_name_id": "the-bank-of-new-york-mellon-corp",
                  "beneficiary_bank_country": "Norway",
                  "end": "2015-10-23T00:00:00.000000",
                  "origin_lng": "114.1667",
                  "originator_bank_id": "bank-of-communications",
                  "id": "234301",
                  "begin": "2015-10-23T00:00:00.000000",
                  "sar_id": "4293",
                  "label": "Filing"
                },
                "color": "#4CAF50",
                "styles": {},
                "label": "Filing",
                "scale_factor": 1,
                "type": "#4CAF50",
                "size": [
                  55,
                  55
                ],
                "position": [
                  0,
                  0
                ],
                "heat": 0.08031855419886214
              },
              {
                "id": 2653,
                "properties": {
                  "end_date": "Oct 30, 2015",
                  "amount": 15457176.81,
                  "beneficiary_iso": "IDN",
                  "beneficiary_lng": "120",
                  "begin_date": "Oct 9, 2015",
                  "originator_bank": "Icici Bank Limited",
                  "beneficiary_lat": "-5",
                  "begin_date_format": "2015-10-09T00:00:00Z",
                  "end_date_format": "2015-10-30T00:00:00Z",
                  "beneficiary_bank_id": "bank-of-india-indonesia-jakarta-indonesia-idn",
                  "originator_iso": "SGP",
                  "origin_lat": "1.3667",
                  "number": 4,
                  "filer_org_name": "The Bank of New York Mellon Corp.",
                  "originator_bank_country": "Singapore",
                  "beneficiary_bank_country": "Indonesia",
                  "beneficiary_bank": "Bank of India Indonesia",
                  "filer_org_name_id": "the-bank-of-new-york-mellon-corp",
                  "end": "2015-10-30T00:00:00.000000",
                  "origin_lng": "103.8",
                  "originator_bank_id": "icici-bank-limited",
                  "id": "234302",
                  "begin": "2015-10-09T00:00:00.000000",
                  "sar_id": "4293",
                  "label": "Filing"
                },
                "color": "#4CAF50",
                "styles": {},
                "label": "Filing",
                "scale_factor": 1,
                "type": "#4CAF50",
                "size": [
                  55,
                  55
                ],
                "position": [
                  0,
                  0
                ],
                "heat": 0.24039477470652348
              },
              {
                "id": 5057,
                "properties": {
                  "name": "Société Générale SA",
                  "location": {
                    "x": -73.987862,
                    "y": 40.777571,
                    "z": 0
                  },
                  "id": "societe-generale-sa",
                  "label": "Entity"
                },
                "color": "#2196F3",
                "styles": {},
                "label": "Société Générale SA",
                "scale_factor": 1,
                "type": "#2196F3",
                "size": [
                  55,
                  55
                ],
                "position": [
                  0,
                  0
                ],
                "coordinates": [
                  40.777571,
                  -73.987862
                ]
              },
              {
                "id": 2263,
                "properties": {
                  "end_date": "Jul 11, 2012",
                  "amount": 37733084,
                  "beneficiary_iso": "CYP",
                  "beneficiary_lng": "33",
                  "begin_date": "Jul 11, 2012",
                  "originator_bank": "SG Private Banking",
                  "beneficiary_lat": "35",
                  "begin_date_format": "2012-07-11T00:00:00Z",
                  "end_date_format": "2012-07-11T00:00:00Z",
                  "beneficiary_bank_id": "societe-generale-bank-cyprus-ltd-sg-cyprus-cyp",
                  "originator_iso": "CHE",
                  "origin_lat": "47",
                  "number": 1,
                  "filer_org_name": "Société Générale SA",
                  "originator_bank_country": "Switzerland",
                  "beneficiary_bank_country": "Cyprus",
                  "beneficiary_bank": "Societe Generale Bank Cyprus Ltd",
                  "filer_org_name_id": "societe-generale-sa",
                  "end": "2012-07-11T00:00:00.000000",
                  "origin_lng": "8",
                  "originator_bank_id": "sg-private-banking",
                  "id": "231963",
                  "begin": "2012-07-11T00:00:00.000000",
                  "sar_id": "2782",
                  "label": "Filing"
                },
                "color": "#4CAF50",
                "styles": {},
                "label": "Filing",
                "scale_factor": 1,
                "type": "#4CAF50",
                "size": [
                  55,
                  55
                ],
                "position": [
                  0,
                  0
                ],
                "heat": 0.5296188287324071
              },
              {
                "id": 5069,
                "properties": {
                  "country": "CYP",
                  "name": "Societe Generale Bank Cyprus Ltd",
                  "location": {
                    "x": 33,
                    "y": 35,
                    "z": 0
                  },
                  "id": "societe-generale-bank-cyprus-ltd-sg-cyprus-cyp",
                  "label": "Entity"
                },
                "color": "#2196F3",
                "styles": {},
                "label": "Societe Generale Bank Cyprus Ltd",
                "scale_factor": 1,
                "type": "#2196F3",
                "size": [
                  55,
                  55
                ],
                "position": [
                  0,
                  0
                ],
                "coordinates": [
                  35,
                  33
                ]
              },
              {
                "id": 350,
                "properties": {
                  "code": "CYP",
                  "name": "Cyprus",
                  "location": {
                    "x": 33,
                    "y": 35,
                    "z": 0
                  },
                  "tld": "CY",
                  "label": "Country"
                },
                "color": "#F44336",
                "styles": {},
                "label": "Cyprus",
                "scale_factor": 1,
                "type": "#F44336",
                "size": [
                  55,
                  55
                ],
                "position": [
                  0,
                  0
                ],
                "coordinates": [
                  35,
                  33
                ]
              },
              {
                "id": 549,
                "properties": {
                  "end_date": "Sep 25, 2015",
                  "amount": 56898523.47,
                  "beneficiary_iso": "GBR",
                  "beneficiary_lng": "-2",
                  "begin_date": "Mar 25, 2015",
                  "originator_bank": "CIMB Bank Berhad",
                  "beneficiary_lat": "54",
                  "begin_date_format": "2015-03-25T00:00:00Z",
                  "beneficiary_bank_id": "barclays-bank-plc-london-england-gbr",
                  "end_date_format": "2015-09-25T00:00:00Z",
                  "originator_iso": "SGP",
                  "origin_lat": "1.3667",
                  "number": 68,
                  "filer_org_name": "The Bank of New York Mellon Corp.",
                  "originator_bank_country": "Singapore",
                  "beneficiary_bank_country": "United Kingdom",
                  "beneficiary_bank": "Barclays Bank Plc",
                  "filer_org_name_id": "the-bank-of-new-york-mellon-corp",
                  "end": "2015-09-25T00:00:00.000000",
                  "origin_lng": "103.8",
                  "originator_bank_id": "cimb-bank-berhad",
                  "id": "223254",
                  "begin": "2015-03-25T00:00:00.000000",
                  "sar_id": "3297",
                  "label": "Filing"
                },
                "color": "#4CAF50",
                "styles": {},
                "label": "Filing",
                "scale_factor": 1,
                "type": "#4CAF50",
                "size": [
                  55,
                  55
                ],
                "position": [
                  0,
                  0
                ],
                "heat": 0.7232557931327757
              },
              {
                "id": 5070,
                "properties": {
                  "country": "NZL",
                  "name": "Asb Bank Limited",
                  "location": {
                    "x": 174,
                    "y": -41,
                    "z": 0
                  },
                  "id": "asb-bank-limited-auckland-new-zealand-nzl",
                  "label": "Entity"
                },
                "color": "#2196F3",
                "styles": {},
                "label": "Asb Bank Limited",
                "scale_factor": 1,
                "type": "#2196F3",
                "size": [
                  55,
                  55
                ],
                "position": [
                  0,
                  0
                ],
                "coordinates": [
                  -41,
                  174
                ]
              },
              {
                "id": 454,
                "properties": {
                  "code": "NZL",
                  "name": "New Zealand",
                  "location": {
                    "x": 174,
                    "y": -41,
                    "z": 0
                  },
                  "tld": "NZ",
                  "label": "Country"
                },
                "color": "#F44336",
                "styles": {},
                "label": "New Zealand",
                "scale_factor": 1,
                "type": "#F44336",
                "size": [
                  55,
                  55
                ],
                "position": [
                  0,
                  0
                ],
                "coordinates": [
                  -41,
                  174
                ]
              }
            ],
            "_overview": {
              "enabled": null,
              "overview_set": false
            },
            "_selected_graph": [
              [],
              [
                {
                  "id": 24,
                  "start": 5070,
                  "end": 454,
                  "properties": {
                    "label": "COUNTRY"
                  }
                }
              ]
            ],
            "_sidebar": {
              "enabled": false,
              "start_with": null
            },
            "_view_count": null,
            "_view_module": "yfiles-jupyter-graphs",
            "_view_module_version": "^1.10.1",
            "_view_name": "GraphView",
            "layout": "IPY_MODEL_2c01b7e7860642b49f917438f01aff72",
            "tabbable": null,
            "tooltip": null
          }
        },
        "2c01b7e7860642b49f917438f01aff72": {
          "model_module": "@jupyter-widgets/base",
          "model_name": "LayoutModel",
          "model_module_version": "2.0.0",
          "state": {
            "_model_module": "@jupyter-widgets/base",
            "_model_module_version": "2.0.0",
            "_model_name": "LayoutModel",
            "_view_count": null,
            "_view_module": "@jupyter-widgets/base",
            "_view_module_version": "2.0.0",
            "_view_name": "LayoutView",
            "align_content": null,
            "align_items": null,
            "align_self": null,
            "border_bottom": null,
            "border_left": null,
            "border_right": null,
            "border_top": null,
            "bottom": null,
            "display": null,
            "flex": null,
            "flex_flow": null,
            "grid_area": null,
            "grid_auto_columns": null,
            "grid_auto_flow": null,
            "grid_auto_rows": null,
            "grid_column": null,
            "grid_gap": null,
            "grid_row": null,
            "grid_template_areas": null,
            "grid_template_columns": null,
            "grid_template_rows": null,
            "height": "690px",
            "justify_content": null,
            "justify_items": null,
            "left": null,
            "margin": null,
            "max_height": null,
            "max_width": null,
            "min_height": null,
            "min_width": null,
            "object_fit": null,
            "object_position": null,
            "order": null,
            "overflow": null,
            "padding": null,
            "right": null,
            "top": null,
            "visibility": null,
            "width": "100%"
          }
        },
        "4b194c5686574b50b1388b536d46ab7e": {
          "model_module": "yfiles-jupyter-graphs",
          "model_name": "GraphModel",
          "model_module_version": "^1.10.1",
          "state": {
            "_context_pane_mapping": [
              {
                "id": "Neighborhood",
                "title": "Neighborhood"
              },
              {
                "id": "Data",
                "title": "Data"
              },
              {
                "id": "Search",
                "title": "Search"
              },
              {
                "id": "About",
                "title": "About"
              }
            ],
            "_data_importer": "neo4j",
            "_directed": true,
            "_dom_classes": [],
            "_edges": [
              {
                "id": 0,
                "start": 5056,
                "end": 2645,
                "properties": {
                  "label": "FILED"
                },
                "color": "#607D8B",
                "thickness_factor": 1,
                "directed": true,
                "styles": {},
                "label": "FILED"
              },
              {
                "id": 1,
                "start": 2645,
                "end": 5068,
                "properties": {
                  "label": "CONCERNS"
                },
                "color": "#673AB7",
                "thickness_factor": 1,
                "directed": true,
                "styles": {},
                "label": "CONCERNS"
              },
              {
                "id": 2,
                "start": 5068,
                "end": 338,
                "properties": {
                  "label": "COUNTRY"
                },
                "color": "#CDDC39",
                "thickness_factor": 1,
                "directed": true,
                "styles": {},
                "label": "COUNTRY"
              },
              {
                "id": 3,
                "start": 5056,
                "end": 2646,
                "properties": {
                  "label": "FILED"
                },
                "color": "#607D8B",
                "thickness_factor": 1,
                "directed": true,
                "styles": {},
                "label": "FILED"
              },
              {
                "id": 4,
                "start": 2646,
                "end": 5068,
                "properties": {
                  "label": "CONCERNS"
                },
                "color": "#673AB7",
                "thickness_factor": 1,
                "directed": true,
                "styles": {},
                "label": "CONCERNS"
              },
              {
                "id": 5,
                "start": 5056,
                "end": 2647,
                "properties": {
                  "label": "FILED"
                },
                "color": "#607D8B",
                "thickness_factor": 1,
                "directed": true,
                "styles": {},
                "label": "FILED"
              },
              {
                "id": 6,
                "start": 2647,
                "end": 5068,
                "properties": {
                  "label": "CONCERNS"
                },
                "color": "#673AB7",
                "thickness_factor": 1,
                "directed": true,
                "styles": {},
                "label": "CONCERNS"
              },
              {
                "id": 7,
                "start": 5056,
                "end": 2648,
                "properties": {
                  "label": "FILED"
                },
                "color": "#607D8B",
                "thickness_factor": 1,
                "directed": true,
                "styles": {},
                "label": "FILED"
              },
              {
                "id": 8,
                "start": 2648,
                "end": 5068,
                "properties": {
                  "label": "CONCERNS"
                },
                "color": "#673AB7",
                "thickness_factor": 1,
                "directed": true,
                "styles": {},
                "label": "CONCERNS"
              },
              {
                "id": 9,
                "start": 5056,
                "end": 2649,
                "properties": {
                  "label": "FILED"
                },
                "color": "#607D8B",
                "thickness_factor": 1,
                "directed": true,
                "styles": {},
                "label": "FILED"
              },
              {
                "id": 10,
                "start": 2649,
                "end": 5068,
                "properties": {
                  "label": "CONCERNS"
                },
                "color": "#673AB7",
                "thickness_factor": 1,
                "directed": true,
                "styles": {},
                "label": "CONCERNS"
              },
              {
                "id": 11,
                "start": 5056,
                "end": 2650,
                "properties": {
                  "label": "FILED"
                },
                "color": "#607D8B",
                "thickness_factor": 1,
                "directed": true,
                "styles": {},
                "label": "FILED"
              },
              {
                "id": 12,
                "start": 2650,
                "end": 5068,
                "properties": {
                  "label": "CONCERNS"
                },
                "color": "#673AB7",
                "thickness_factor": 1,
                "directed": true,
                "styles": {},
                "label": "CONCERNS"
              },
              {
                "id": 13,
                "start": 5056,
                "end": 2651,
                "properties": {
                  "label": "FILED"
                },
                "color": "#607D8B",
                "thickness_factor": 1,
                "directed": true,
                "styles": {},
                "label": "FILED"
              },
              {
                "id": 14,
                "start": 2651,
                "end": 5068,
                "properties": {
                  "label": "CONCERNS"
                },
                "color": "#673AB7",
                "thickness_factor": 1,
                "directed": true,
                "styles": {},
                "label": "CONCERNS"
              },
              {
                "id": 15,
                "start": 5056,
                "end": 2652,
                "properties": {
                  "label": "FILED"
                },
                "color": "#607D8B",
                "thickness_factor": 1,
                "directed": true,
                "styles": {},
                "label": "FILED"
              },
              {
                "id": 16,
                "start": 2652,
                "end": 5068,
                "properties": {
                  "label": "CONCERNS"
                },
                "color": "#673AB7",
                "thickness_factor": 1,
                "directed": true,
                "styles": {},
                "label": "CONCERNS"
              },
              {
                "id": 17,
                "start": 5056,
                "end": 2653,
                "properties": {
                  "label": "FILED"
                },
                "color": "#607D8B",
                "thickness_factor": 1,
                "directed": true,
                "styles": {},
                "label": "FILED"
              },
              {
                "id": 18,
                "start": 2653,
                "end": 5068,
                "properties": {
                  "label": "CONCERNS"
                },
                "color": "#673AB7",
                "thickness_factor": 1,
                "directed": true,
                "styles": {},
                "label": "CONCERNS"
              },
              {
                "id": 19,
                "start": 5057,
                "end": 2263,
                "properties": {
                  "label": "FILED"
                },
                "color": "#607D8B",
                "thickness_factor": 1,
                "directed": true,
                "styles": {},
                "label": "FILED"
              },
              {
                "id": 20,
                "start": 2263,
                "end": 5069,
                "properties": {
                  "label": "CONCERNS"
                },
                "color": "#673AB7",
                "thickness_factor": 1,
                "directed": true,
                "styles": {},
                "label": "CONCERNS"
              },
              {
                "id": 21,
                "start": 5069,
                "end": 350,
                "properties": {
                  "label": "COUNTRY"
                },
                "color": "#CDDC39",
                "thickness_factor": 1,
                "directed": true,
                "styles": {},
                "label": "COUNTRY"
              },
              {
                "id": 22,
                "start": 5056,
                "end": 549,
                "properties": {
                  "label": "FILED"
                },
                "color": "#607D8B",
                "thickness_factor": 1,
                "directed": true,
                "styles": {},
                "label": "FILED"
              },
              {
                "id": 23,
                "start": 549,
                "end": 5070,
                "properties": {
                  "label": "CONCERNS"
                },
                "color": "#673AB7",
                "thickness_factor": 1,
                "directed": true,
                "styles": {},
                "label": "CONCERNS"
              },
              {
                "id": 24,
                "start": 5070,
                "end": 454,
                "properties": {
                  "label": "COUNTRY"
                },
                "color": "#CDDC39",
                "thickness_factor": 1,
                "directed": true,
                "styles": {},
                "label": "COUNTRY"
              },
              {
                "id": 25,
                "start": 5056,
                "end": 550,
                "properties": {
                  "label": "FILED"
                },
                "color": "#607D8B",
                "thickness_factor": 1,
                "directed": true,
                "styles": {},
                "label": "FILED"
              },
              {
                "id": 26,
                "start": 550,
                "end": 5070,
                "properties": {
                  "label": "CONCERNS"
                },
                "color": "#673AB7",
                "thickness_factor": 1,
                "directed": true,
                "styles": {},
                "label": "CONCERNS"
              },
              {
                "id": 27,
                "start": 5056,
                "end": 3915,
                "properties": {
                  "label": "FILED"
                },
                "color": "#607D8B",
                "thickness_factor": 1,
                "directed": true,
                "styles": {},
                "label": "FILED"
              },
              {
                "id": 28,
                "start": 3915,
                "end": 5070,
                "properties": {
                  "label": "CONCERNS"
                },
                "color": "#673AB7",
                "thickness_factor": 1,
                "directed": true,
                "styles": {},
                "label": "CONCERNS"
              },
              {
                "id": 29,
                "start": 5056,
                "end": 3916,
                "properties": {
                  "label": "FILED"
                },
                "color": "#607D8B",
                "thickness_factor": 1,
                "directed": true,
                "styles": {},
                "label": "FILED"
              },
              {
                "id": 30,
                "start": 3916,
                "end": 5070,
                "properties": {
                  "label": "CONCERNS"
                },
                "color": "#673AB7",
                "thickness_factor": 1,
                "directed": true,
                "styles": {},
                "label": "CONCERNS"
              },
              {
                "id": 31,
                "start": 5056,
                "end": 3917,
                "properties": {
                  "label": "FILED"
                },
                "color": "#607D8B",
                "thickness_factor": 1,
                "directed": true,
                "styles": {},
                "label": "FILED"
              },
              {
                "id": 32,
                "start": 3917,
                "end": 5070,
                "properties": {
                  "label": "CONCERNS"
                },
                "color": "#673AB7",
                "thickness_factor": 1,
                "directed": true,
                "styles": {},
                "label": "CONCERNS"
              },
              {
                "id": 33,
                "start": 5056,
                "end": 3918,
                "properties": {
                  "label": "FILED"
                },
                "color": "#607D8B",
                "thickness_factor": 1,
                "directed": true,
                "styles": {},
                "label": "FILED"
              },
              {
                "id": 34,
                "start": 3918,
                "end": 5070,
                "properties": {
                  "label": "CONCERNS"
                },
                "color": "#673AB7",
                "thickness_factor": 1,
                "directed": true,
                "styles": {},
                "label": "CONCERNS"
              },
              {
                "id": 35,
                "start": 5056,
                "end": 3017,
                "properties": {
                  "label": "FILED"
                },
                "color": "#607D8B",
                "thickness_factor": 1,
                "directed": true,
                "styles": {},
                "label": "FILED"
              },
              {
                "id": 36,
                "start": 3017,
                "end": 5071,
                "properties": {
                  "label": "CONCERNS"
                },
                "color": "#673AB7",
                "thickness_factor": 1,
                "directed": true,
                "styles": {},
                "label": "CONCERNS"
              },
              {
                "id": 37,
                "start": 5071,
                "end": 330,
                "properties": {
                  "label": "COUNTRY"
                },
                "color": "#CDDC39",
                "thickness_factor": 1,
                "directed": true,
                "styles": {},
                "label": "COUNTRY"
              },
              {
                "id": 38,
                "start": 5056,
                "end": 3018,
                "properties": {
                  "label": "FILED"
                },
                "color": "#607D8B",
                "thickness_factor": 1,
                "directed": true,
                "styles": {},
                "label": "FILED"
              },
              {
                "id": 39,
                "start": 3018,
                "end": 5071,
                "properties": {
                  "label": "CONCERNS"
                },
                "color": "#673AB7",
                "thickness_factor": 1,
                "directed": true,
                "styles": {},
                "label": "CONCERNS"
              },
              {
                "id": 40,
                "start": 5056,
                "end": 3019,
                "properties": {
                  "label": "FILED"
                },
                "color": "#607D8B",
                "thickness_factor": 1,
                "directed": true,
                "styles": {},
                "label": "FILED"
              },
              {
                "id": 41,
                "start": 3019,
                "end": 5071,
                "properties": {
                  "label": "CONCERNS"
                },
                "color": "#673AB7",
                "thickness_factor": 1,
                "directed": true,
                "styles": {},
                "label": "CONCERNS"
              },
              {
                "id": 42,
                "start": 5056,
                "end": 3020,
                "properties": {
                  "label": "FILED"
                },
                "color": "#607D8B",
                "thickness_factor": 1,
                "directed": true,
                "styles": {},
                "label": "FILED"
              },
              {
                "id": 43,
                "start": 3020,
                "end": 5071,
                "properties": {
                  "label": "CONCERNS"
                },
                "color": "#673AB7",
                "thickness_factor": 1,
                "directed": true,
                "styles": {},
                "label": "CONCERNS"
              },
              {
                "id": 44,
                "start": 5056,
                "end": 3021,
                "properties": {
                  "label": "FILED"
                },
                "color": "#607D8B",
                "thickness_factor": 1,
                "directed": true,
                "styles": {},
                "label": "FILED"
              },
              {
                "id": 45,
                "start": 3021,
                "end": 5071,
                "properties": {
                  "label": "CONCERNS"
                },
                "color": "#673AB7",
                "thickness_factor": 1,
                "directed": true,
                "styles": {},
                "label": "CONCERNS"
              },
              {
                "id": 46,
                "start": 5056,
                "end": 3022,
                "properties": {
                  "label": "FILED"
                },
                "color": "#607D8B",
                "thickness_factor": 1,
                "directed": true,
                "styles": {},
                "label": "FILED"
              },
              {
                "id": 47,
                "start": 3022,
                "end": 5071,
                "properties": {
                  "label": "CONCERNS"
                },
                "color": "#673AB7",
                "thickness_factor": 1,
                "directed": true,
                "styles": {},
                "label": "CONCERNS"
              },
              {
                "id": 48,
                "start": 5056,
                "end": 3023,
                "properties": {
                  "label": "FILED"
                },
                "color": "#607D8B",
                "thickness_factor": 1,
                "directed": true,
                "styles": {},
                "label": "FILED"
              },
              {
                "id": 49,
                "start": 3023,
                "end": 5071,
                "properties": {
                  "label": "CONCERNS"
                },
                "color": "#673AB7",
                "thickness_factor": 1,
                "directed": true,
                "styles": {},
                "label": "CONCERNS"
              }
            ],
            "_graph_layout": {
              "algorithm": "map",
              "options": {}
            },
            "_highlight": [],
            "_license": {},
            "_model_module": "yfiles-jupyter-graphs",
            "_model_module_version": "^1.10.1",
            "_model_name": "GraphModel",
            "_neighborhood": {},
            "_nodes": [
              {
                "id": 5056,
                "properties": {
                  "name": "The Bank of New York Mellon Corp.",
                  "location": {
                    "x": -73.987862,
                    "y": 40.777571,
                    "z": 0
                  },
                  "id": "the-bank-of-new-york-mellon-corp",
                  "label": "Entity"
                },
                "color": "#2196F3",
                "styles": {},
                "label": "The Bank of New York Mellon Corp.",
                "scale_factor": 1,
                "type": "#2196F3",
                "size": [
                  55,
                  55
                ],
                "position": [
                  0,
                  0
                ],
                "coordinates": [
                  40.777571,
                  -73.987862
                ]
              },
              {
                "id": 2645,
                "properties": {
                  "end_date": "Oct 13, 2015",
                  "amount": 2741500,
                  "beneficiary_iso": "SGP",
                  "beneficiary_lng": "103.8",
                  "begin_date": "Oct 2, 2015",
                  "originator_bank": "HSBC Hong Kong",
                  "beneficiary_lat": "1.3667",
                  "begin_date_format": "2015-10-02T00:00:00Z",
                  "originator_iso": "HKG",
                  "beneficiary_bank_id": "dbs-bank-ltd-singapore-sgp",
                  "end_date_format": "2015-10-13T00:00:00Z",
                  "origin_lat": "22.25",
                  "number": 4,
                  "filer_org_name": "The Bank of New York Mellon Corp.",
                  "originator_bank_country": "Hong Kong",
                  "beneficiary_bank": "DBS Bank Ltd",
                  "beneficiary_bank_country": "Singapore",
                  "filer_org_name_id": "the-bank-of-new-york-mellon-corp",
                  "end": "2015-10-13T00:00:00.000000",
                  "origin_lng": "114.1667",
                  "originator_bank_id": "hsbc-hong-kong",
                  "id": "234293",
                  "begin": "2015-10-02T00:00:00.000000",
                  "sar_id": "4293",
                  "label": "Filing"
                },
                "color": "#4CAF50",
                "styles": {},
                "label": "Filing",
                "scale_factor": 1,
                "type": "#4CAF50",
                "size": [
                  55,
                  55
                ],
                "position": [
                  0,
                  0
                ],
                "coordinates": [
                  "1.3667",
                  "103.8"
                ]
              },
              {
                "id": 5068,
                "properties": {
                  "country": "CHN",
                  "name": "China Construction Bank Corporation",
                  "location": {
                    "x": 105,
                    "y": 35,
                    "z": 0
                  },
                  "id": "china-construction-bank-corporation-beijing-china-chn",
                  "label": "Entity"
                },
                "color": "#2196F3",
                "styles": {},
                "label": "China Construction Bank Corporation",
                "scale_factor": 1,
                "type": "#2196F3",
                "size": [
                  55,
                  55
                ],
                "position": [
                  0,
                  0
                ],
                "coordinates": [
                  35,
                  105
                ]
              },
              {
                "id": 338,
                "properties": {
                  "code": "CHN",
                  "name": "China",
                  "location": {
                    "x": 105,
                    "y": 35,
                    "z": 0
                  },
                  "tld": "CN",
                  "label": "Country"
                },
                "color": "#F44336",
                "styles": {},
                "label": "China",
                "scale_factor": 1,
                "type": "#F44336",
                "size": [
                  55,
                  55
                ],
                "position": [
                  0,
                  0
                ],
                "coordinates": [
                  35,
                  105
                ]
              },
              {
                "id": 2646,
                "properties": {
                  "end_date": "Oct 27, 2015",
                  "amount": 3240000,
                  "beneficiary_iso": "SGP",
                  "beneficiary_lng": "103.8",
                  "begin_date": "Oct 27, 2015",
                  "originator_bank": "Bank of Taiwan",
                  "beneficiary_lat": "1.3667",
                  "begin_date_format": "2015-10-27T00:00:00Z",
                  "beneficiary_bank_id": "dbs-bank-ltd-singapore-sgp",
                  "end_date_format": "2015-10-27T00:00:00Z",
                  "originator_iso": "TWN",
                  "origin_lat": "23.5",
                  "number": 1,
                  "filer_org_name": "The Bank of New York Mellon Corp.",
                  "originator_bank_country": "Taiwan",
                  "beneficiary_bank_country": "Singapore",
                  "filer_org_name_id": "the-bank-of-new-york-mellon-corp",
                  "beneficiary_bank": "DBS Bank Ltd",
                  "end": "2015-10-27T00:00:00.000000",
                  "origin_lng": "121",
                  "originator_bank_id": "bank-of-taiwan",
                  "id": "234294",
                  "begin": "2015-10-27T00:00:00.000000",
                  "sar_id": "4293",
                  "label": "Filing"
                },
                "color": "#4CAF50",
                "styles": {},
                "label": "Filing",
                "scale_factor": 1,
                "type": "#4CAF50",
                "size": [
                  55,
                  55
                ],
                "position": [
                  0,
                  0
                ],
                "coordinates": [
                  "1.3667",
                  "103.8"
                ]
              },
              {
                "id": 2647,
                "properties": {
                  "end_date": "Oct 23, 2015",
                  "amount": 3397070,
                  "beneficiary_iso": "CZE",
                  "beneficiary_lng": "15.5",
                  "begin_date": "Oct 23, 2015",
                  "originator_bank": "J And T Bank And Trust",
                  "beneficiary_lat": "49.75",
                  "begin_date_format": "2015-10-23T00:00:00Z",
                  "beneficiary_bank_id": "ppf-banka-as-prague-czech-republic-cze",
                  "end_date_format": "2015-10-23T00:00:00Z",
                  "originator_iso": "BRB",
                  "origin_lat": "13.1667",
                  "number": 1,
                  "filer_org_name": "The Bank of New York Mellon Corp.",
                  "originator_bank_country": "Barbados",
                  "beneficiary_bank": "PPF Banka A.S.",
                  "beneficiary_bank_country": "Czech Republic",
                  "filer_org_name_id": "the-bank-of-new-york-mellon-corp",
                  "end": "2015-10-23T00:00:00.000000",
                  "origin_lng": "-59.5333",
                  "originator_bank_id": "j-and-t-bank-and-trust",
                  "id": "234295",
                  "begin": "2015-10-23T00:00:00.000000",
                  "sar_id": "4293",
                  "label": "Filing"
                },
                "color": "#4CAF50",
                "styles": {},
                "label": "Filing",
                "scale_factor": 1,
                "type": "#4CAF50",
                "size": [
                  55,
                  55
                ],
                "position": [
                  0,
                  0
                ],
                "coordinates": [
                  "49.75",
                  "15.5"
                ]
              },
              {
                "id": 2648,
                "properties": {
                  "end_date": "Oct 15, 2015",
                  "amount": 3500000,
                  "beneficiary_iso": "CHN",
                  "beneficiary_lng": "105",
                  "begin_date": "Oct 7, 2015",
                  "originator_bank": "Taishin International Bank",
                  "beneficiary_lat": "35",
                  "begin_date_format": "2015-10-07T00:00:00Z",
                  "end_date_format": "2015-10-15T00:00:00Z",
                  "originator_iso": "TWN",
                  "beneficiary_bank_id": "foshan-shunde-rural-commercial-bk-co-ltd-shunde-china-chn",
                  "origin_lat": "23.5",
                  "number": 3,
                  "filer_org_name": "The Bank of New York Mellon Corp.",
                  "originator_bank_country": "Taiwan",
                  "beneficiary_bank": "Foshan Shunde Rural Commercial Bk Co Ltd",
                  "beneficiary_bank_country": "China",
                  "filer_org_name_id": "the-bank-of-new-york-mellon-corp",
                  "end": "2015-10-15T00:00:00.000000",
                  "origin_lng": "121",
                  "originator_bank_id": "taishin-international-bank",
                  "id": "234296",
                  "begin": "2015-10-07T00:00:00.000000",
                  "sar_id": "4293",
                  "label": "Filing"
                },
                "color": "#4CAF50",
                "styles": {},
                "label": "Filing",
                "scale_factor": 1,
                "type": "#4CAF50",
                "size": [
                  55,
                  55
                ],
                "position": [
                  0,
                  0
                ],
                "coordinates": [
                  "35",
                  "105"
                ]
              },
              {
                "id": 2649,
                "properties": {
                  "end_date": "Oct 29, 2015",
                  "amount": 3561111.36,
                  "beneficiary_iso": "CHN",
                  "beneficiary_lng": "105",
                  "begin_date": "Oct 13, 2015",
                  "originator_bank": "CTBC Bank Co Ltd",
                  "beneficiary_lat": "35",
                  "begin_date_format": "2015-10-13T00:00:00Z",
                  "beneficiary_bank_id": "china-construction-bank-corporation-guangdong-china-chn",
                  "end_date_format": "2015-10-29T00:00:00Z",
                  "originator_iso": "HKG",
                  "origin_lat": "22.25",
                  "number": 3,
                  "filer_org_name": "The Bank of New York Mellon Corp.",
                  "originator_bank_country": "Hong Kong",
                  "beneficiary_bank": "China Construction Bank Corporation",
                  "filer_org_name_id": "the-bank-of-new-york-mellon-corp",
                  "beneficiary_bank_country": "China",
                  "end": "2015-10-29T00:00:00.000000",
                  "origin_lng": "114.1667",
                  "originator_bank_id": "ctbc-bank-co-ltd",
                  "id": "234297",
                  "begin": "2015-10-13T00:00:00.000000",
                  "sar_id": "4293",
                  "label": "Filing"
                },
                "color": "#4CAF50",
                "styles": {},
                "label": "Filing",
                "scale_factor": 1,
                "type": "#4CAF50",
                "size": [
                  55,
                  55
                ],
                "position": [
                  0,
                  0
                ],
                "coordinates": [
                  "35",
                  "105"
                ]
              },
              {
                "id": 2650,
                "properties": {
                  "end_date": "Oct 29, 2015",
                  "amount": 2993552.18,
                  "beneficiary_iso": "CHN",
                  "beneficiary_lng": "105",
                  "begin_date": "Oct 27, 2015",
                  "originator_bank": "SCSB Savings Department Branch",
                  "beneficiary_lat": "35",
                  "begin_date_format": "2015-10-27T00:00:00Z",
                  "beneficiary_bank_id": "ping-an-bank-co-ltd-east-shenzhen-china-chn",
                  "originator_iso": "TWN",
                  "end_date_format": "2015-10-29T00:00:00Z",
                  "origin_lat": "23.5",
                  "number": 3,
                  "filer_org_name": "The Bank of New York Mellon Corp.",
                  "originator_bank_country": "Taiwan",
                  "beneficiary_bank": "Ping An Bank Co Ltd",
                  "filer_org_name_id": "the-bank-of-new-york-mellon-corp",
                  "beneficiary_bank_country": "China",
                  "end": "2015-10-29T00:00:00.000000",
                  "origin_lng": "121",
                  "originator_bank_id": "scsb-savings-department-branch",
                  "id": "234298",
                  "begin": "2015-10-27T00:00:00.000000",
                  "sar_id": "4293",
                  "label": "Filing"
                },
                "color": "#4CAF50",
                "styles": {},
                "label": "Filing",
                "scale_factor": 1,
                "type": "#4CAF50",
                "size": [
                  55,
                  55
                ],
                "position": [
                  0,
                  0
                ],
                "coordinates": [
                  "35",
                  "105"
                ]
              },
              {
                "id": 2651,
                "properties": {
                  "end_date": "Oct 9, 2015",
                  "amount": 5870272.71,
                  "beneficiary_lng": "103.8",
                  "beneficiary_iso": "SGP",
                  "begin_date": "Oct 5, 2015",
                  "originator_bank": "HSBC Singapore General Account",
                  "beneficiary_lat": "1.3667",
                  "begin_date_format": "2015-10-05T00:00:00Z",
                  "beneficiary_bank_id": "dbs-bank-ltd-singapore-sgp",
                  "end_date_format": "2015-10-09T00:00:00Z",
                  "originator_iso": "SGP",
                  "origin_lat": "1.3667",
                  "number": 3,
                  "filer_org_name": "The Bank of New York Mellon Corp.",
                  "originator_bank_country": "Singapore",
                  "beneficiary_bank_country": "Singapore",
                  "filer_org_name_id": "the-bank-of-new-york-mellon-corp",
                  "beneficiary_bank": "DBS Bank Ltd",
                  "end": "2015-10-09T00:00:00.000000",
                  "origin_lng": "103.8",
                  "originator_bank_id": "hsbc-singapore-general-account",
                  "id": "234300",
                  "begin": "2015-10-05T00:00:00.000000",
                  "sar_id": "4293",
                  "label": "Filing"
                },
                "color": "#4CAF50",
                "styles": {},
                "label": "Filing",
                "scale_factor": 1,
                "type": "#4CAF50",
                "size": [
                  55,
                  55
                ],
                "position": [
                  0,
                  0
                ],
                "coordinates": [
                  "1.3667",
                  "103.8"
                ]
              },
              {
                "id": 2652,
                "properties": {
                  "end_date": "Oct 23, 2015",
                  "amount": 4967922.12,
                  "beneficiary_iso": "NOR",
                  "beneficiary_lng": "10",
                  "begin_date": "Oct 23, 2015",
                  "originator_bank": "Bank of Communications",
                  "beneficiary_lat": "62",
                  "begin_date_format": "2015-10-23T00:00:00Z",
                  "beneficiary_bank_id": "skandinaviska-enskilda-banken-oslo-norway-nor",
                  "end_date_format": "2015-10-23T00:00:00Z",
                  "originator_iso": "HKG",
                  "origin_lat": "22.25",
                  "number": 2,
                  "filer_org_name": "The Bank of New York Mellon Corp.",
                  "originator_bank_country": "Hong Kong",
                  "beneficiary_bank": "Skandinaviska Enskilda Banken",
                  "filer_org_name_id": "the-bank-of-new-york-mellon-corp",
                  "beneficiary_bank_country": "Norway",
                  "end": "2015-10-23T00:00:00.000000",
                  "origin_lng": "114.1667",
                  "originator_bank_id": "bank-of-communications",
                  "id": "234301",
                  "begin": "2015-10-23T00:00:00.000000",
                  "sar_id": "4293",
                  "label": "Filing"
                },
                "color": "#4CAF50",
                "styles": {},
                "label": "Filing",
                "scale_factor": 1,
                "type": "#4CAF50",
                "size": [
                  55,
                  55
                ],
                "position": [
                  0,
                  0
                ],
                "coordinates": [
                  "62",
                  "10"
                ]
              },
              {
                "id": 2653,
                "properties": {
                  "end_date": "Oct 30, 2015",
                  "amount": 15457176.81,
                  "beneficiary_iso": "IDN",
                  "beneficiary_lng": "120",
                  "begin_date": "Oct 9, 2015",
                  "originator_bank": "Icici Bank Limited",
                  "beneficiary_lat": "-5",
                  "begin_date_format": "2015-10-09T00:00:00Z",
                  "end_date_format": "2015-10-30T00:00:00Z",
                  "beneficiary_bank_id": "bank-of-india-indonesia-jakarta-indonesia-idn",
                  "originator_iso": "SGP",
                  "origin_lat": "1.3667",
                  "number": 4,
                  "filer_org_name": "The Bank of New York Mellon Corp.",
                  "originator_bank_country": "Singapore",
                  "beneficiary_bank_country": "Indonesia",
                  "beneficiary_bank": "Bank of India Indonesia",
                  "filer_org_name_id": "the-bank-of-new-york-mellon-corp",
                  "end": "2015-10-30T00:00:00.000000",
                  "origin_lng": "103.8",
                  "originator_bank_id": "icici-bank-limited",
                  "id": "234302",
                  "begin": "2015-10-09T00:00:00.000000",
                  "sar_id": "4293",
                  "label": "Filing"
                },
                "color": "#4CAF50",
                "styles": {},
                "label": "Filing",
                "scale_factor": 1,
                "type": "#4CAF50",
                "size": [
                  55,
                  55
                ],
                "position": [
                  0,
                  0
                ],
                "coordinates": [
                  "-5",
                  "120"
                ]
              },
              {
                "id": 5057,
                "properties": {
                  "name": "Société Générale SA",
                  "location": {
                    "x": -73.987862,
                    "y": 40.777571,
                    "z": 0
                  },
                  "id": "societe-generale-sa",
                  "label": "Entity"
                },
                "color": "#2196F3",
                "styles": {},
                "label": "Société Générale SA",
                "scale_factor": 1,
                "type": "#2196F3",
                "size": [
                  55,
                  55
                ],
                "position": [
                  0,
                  0
                ],
                "coordinates": [
                  40.777571,
                  -73.987862
                ]
              },
              {
                "id": 2263,
                "properties": {
                  "end_date": "Jul 11, 2012",
                  "amount": 37733084,
                  "beneficiary_iso": "CYP",
                  "beneficiary_lng": "33",
                  "begin_date": "Jul 11, 2012",
                  "originator_bank": "SG Private Banking",
                  "beneficiary_lat": "35",
                  "begin_date_format": "2012-07-11T00:00:00Z",
                  "end_date_format": "2012-07-11T00:00:00Z",
                  "beneficiary_bank_id": "societe-generale-bank-cyprus-ltd-sg-cyprus-cyp",
                  "originator_iso": "CHE",
                  "origin_lat": "47",
                  "number": 1,
                  "filer_org_name": "Société Générale SA",
                  "originator_bank_country": "Switzerland",
                  "beneficiary_bank_country": "Cyprus",
                  "beneficiary_bank": "Societe Generale Bank Cyprus Ltd",
                  "filer_org_name_id": "societe-generale-sa",
                  "end": "2012-07-11T00:00:00.000000",
                  "origin_lng": "8",
                  "originator_bank_id": "sg-private-banking",
                  "id": "231963",
                  "begin": "2012-07-11T00:00:00.000000",
                  "sar_id": "2782",
                  "label": "Filing"
                },
                "color": "#4CAF50",
                "styles": {},
                "label": "Filing",
                "scale_factor": 1,
                "type": "#4CAF50",
                "size": [
                  55,
                  55
                ],
                "position": [
                  0,
                  0
                ],
                "coordinates": [
                  "35",
                  "33"
                ]
              },
              {
                "id": 5069,
                "properties": {
                  "country": "CYP",
                  "name": "Societe Generale Bank Cyprus Ltd",
                  "location": {
                    "x": 33,
                    "y": 35,
                    "z": 0
                  },
                  "id": "societe-generale-bank-cyprus-ltd-sg-cyprus-cyp",
                  "label": "Entity"
                },
                "color": "#2196F3",
                "styles": {},
                "label": "Societe Generale Bank Cyprus Ltd",
                "scale_factor": 1,
                "type": "#2196F3",
                "size": [
                  55,
                  55
                ],
                "position": [
                  0,
                  0
                ],
                "coordinates": [
                  35,
                  33
                ]
              },
              {
                "id": 350,
                "properties": {
                  "code": "CYP",
                  "name": "Cyprus",
                  "location": {
                    "x": 33,
                    "y": 35,
                    "z": 0
                  },
                  "tld": "CY",
                  "label": "Country"
                },
                "color": "#F44336",
                "styles": {},
                "label": "Cyprus",
                "scale_factor": 1,
                "type": "#F44336",
                "size": [
                  55,
                  55
                ],
                "position": [
                  0,
                  0
                ],
                "coordinates": [
                  35,
                  33
                ]
              },
              {
                "id": 549,
                "properties": {
                  "end_date": "Sep 25, 2015",
                  "amount": 56898523.47,
                  "beneficiary_iso": "GBR",
                  "beneficiary_lng": "-2",
                  "begin_date": "Mar 25, 2015",
                  "originator_bank": "CIMB Bank Berhad",
                  "beneficiary_lat": "54",
                  "begin_date_format": "2015-03-25T00:00:00Z",
                  "beneficiary_bank_id": "barclays-bank-plc-london-england-gbr",
                  "end_date_format": "2015-09-25T00:00:00Z",
                  "originator_iso": "SGP",
                  "origin_lat": "1.3667",
                  "number": 68,
                  "filer_org_name": "The Bank of New York Mellon Corp.",
                  "originator_bank_country": "Singapore",
                  "beneficiary_bank_country": "United Kingdom",
                  "beneficiary_bank": "Barclays Bank Plc",
                  "filer_org_name_id": "the-bank-of-new-york-mellon-corp",
                  "end": "2015-09-25T00:00:00.000000",
                  "origin_lng": "103.8",
                  "originator_bank_id": "cimb-bank-berhad",
                  "id": "223254",
                  "begin": "2015-03-25T00:00:00.000000",
                  "sar_id": "3297",
                  "label": "Filing"
                },
                "color": "#4CAF50",
                "styles": {},
                "label": "Filing",
                "scale_factor": 1,
                "type": "#4CAF50",
                "size": [
                  55,
                  55
                ],
                "position": [
                  0,
                  0
                ],
                "coordinates": [
                  "54",
                  "-2"
                ]
              },
              {
                "id": 5070,
                "properties": {
                  "country": "NZL",
                  "name": "Asb Bank Limited",
                  "location": {
                    "x": 174,
                    "y": -41,
                    "z": 0
                  },
                  "id": "asb-bank-limited-auckland-new-zealand-nzl",
                  "label": "Entity"
                },
                "color": "#2196F3",
                "styles": {},
                "label": "Asb Bank Limited",
                "scale_factor": 1,
                "type": "#2196F3",
                "size": [
                  55,
                  55
                ],
                "position": [
                  0,
                  0
                ],
                "coordinates": [
                  -41,
                  174
                ]
              },
              {
                "id": 454,
                "properties": {
                  "code": "NZL",
                  "name": "New Zealand",
                  "location": {
                    "x": 174,
                    "y": -41,
                    "z": 0
                  },
                  "tld": "NZ",
                  "label": "Country"
                },
                "color": "#F44336",
                "styles": {},
                "label": "New Zealand",
                "scale_factor": 1,
                "type": "#F44336",
                "size": [
                  55,
                  55
                ],
                "position": [
                  0,
                  0
                ],
                "coordinates": [
                  -41,
                  174
                ]
              },
              {
                "id": 550,
                "properties": {
                  "end_date": "Sep 25, 2015",
                  "amount": 116238361.25,
                  "beneficiary_iso": "GBR",
                  "beneficiary_lng": "-2",
                  "begin_date": "Mar 30, 2015",
                  "originator_bank": "CIMB Bank Berhad",
                  "beneficiary_lat": "54",
                  "begin_date_format": "2015-03-30T00:00:00Z",
                  "beneficiary_bank_id": "barclays-bank-plc-london-england-gbr",
                  "end_date_format": "2015-09-25T00:00:00Z",
                  "originator_iso": "SGP",
                  "origin_lat": "1.3667",
                  "number": 118,
                  "filer_org_name": "The Bank of New York Mellon Corp.",
                  "originator_bank_country": "Singapore",
                  "beneficiary_bank_country": "United Kingdom",
                  "beneficiary_bank": "Barclays Bank Plc",
                  "filer_org_name_id": "the-bank-of-new-york-mellon-corp",
                  "end": "2015-09-25T00:00:00.000000",
                  "origin_lng": "103.8",
                  "originator_bank_id": "cimb-bank-berhad",
                  "id": "223255",
                  "begin": "2015-03-30T00:00:00.000000",
                  "sar_id": "3297",
                  "label": "Filing"
                },
                "color": "#4CAF50",
                "styles": {},
                "label": "Filing",
                "scale_factor": 1,
                "type": "#4CAF50",
                "size": [
                  55,
                  55
                ],
                "position": [
                  0,
                  0
                ],
                "coordinates": [
                  "54",
                  "-2"
                ]
              },
              {
                "id": 3915,
                "properties": {
                  "end_date": "Sep 23, 2015",
                  "amount": 9310000,
                  "beneficiary_iso": "HKG",
                  "beneficiary_lng": "114.1667",
                  "begin_date": "Aug 12, 2015",
                  "originator_bank": "CIMB Bank Berhad",
                  "beneficiary_lat": "22.25",
                  "begin_date_format": "2015-08-12T00:00:00Z",
                  "beneficiary_bank_id": "china-citic-bank-international-ltd-hong-kong-hkg",
                  "end_date_format": "2015-09-23T00:00:00Z",
                  "originator_iso": "SGP",
                  "origin_lat": "1.3667",
                  "number": 10,
                  "filer_org_name": "The Bank of New York Mellon Corp.",
                  "originator_bank_country": "Singapore",
                  "beneficiary_bank": "China Citic Bank International Ltd",
                  "filer_org_name_id": "the-bank-of-new-york-mellon-corp",
                  "beneficiary_bank_country": "Hong Kong",
                  "end": "2015-09-23T00:00:00.000000",
                  "origin_lng": "103.8",
                  "originator_bank_id": "cimb-bank-berhad",
                  "id": "238362",
                  "begin": "2015-08-12T00:00:00.000000",
                  "sar_id": "3297",
                  "label": "Filing"
                },
                "color": "#4CAF50",
                "styles": {},
                "label": "Filing",
                "scale_factor": 1,
                "type": "#4CAF50",
                "size": [
                  55,
                  55
                ],
                "position": [
                  0,
                  0
                ],
                "coordinates": [
                  "22.25",
                  "114.1667"
                ]
              },
              {
                "id": 3916,
                "properties": {
                  "end_date": "Jun 10, 2015",
                  "amount": 14991886.27,
                  "beneficiary_iso": "CHN",
                  "beneficiary_lng": "105",
                  "begin_date": "Mar 27, 2015",
                  "originator_bank": "CIMB Bank Berhad",
                  "beneficiary_lat": "35",
                  "begin_date_format": "2015-03-27T00:00:00Z",
                  "beneficiary_bank_id": "icbc-limited-foshan-china-chn",
                  "end_date_format": "2015-06-10T00:00:00Z",
                  "originator_iso": "SGP",
                  "origin_lat": "1.3667",
                  "number": 26,
                  "filer_org_name": "The Bank of New York Mellon Corp.",
                  "originator_bank_country": "Singapore",
                  "beneficiary_bank": "Icbc Limited",
                  "beneficiary_bank_country": "China",
                  "filer_org_name_id": "the-bank-of-new-york-mellon-corp",
                  "end": "2015-06-10T00:00:00.000000",
                  "origin_lng": "103.8",
                  "originator_bank_id": "cimb-bank-berhad",
                  "id": "238363",
                  "begin": "2015-03-27T00:00:00.000000",
                  "sar_id": "3297",
                  "label": "Filing"
                },
                "color": "#4CAF50",
                "styles": {},
                "label": "Filing",
                "scale_factor": 1,
                "type": "#4CAF50",
                "size": [
                  55,
                  55
                ],
                "position": [
                  0,
                  0
                ],
                "coordinates": [
                  "35",
                  "105"
                ]
              },
              {
                "id": 3917,
                "properties": {
                  "end_date": "Jun 29, 2015",
                  "amount": 29162517.4,
                  "beneficiary_iso": "CHE",
                  "beneficiary_lng": "8",
                  "begin_date": "Apr 29, 2015",
                  "originator_bank": "CIMB Bank Berhad",
                  "beneficiary_lat": "47",
                  "begin_date_format": "2015-04-29T00:00:00Z",
                  "beneficiary_bank_id": "investec-bank-switzerland-ag-zurich-switzerland-che",
                  "end_date_format": "2015-06-29T00:00:00Z",
                  "originator_iso": "SGP",
                  "origin_lat": "1.3667",
                  "number": 28,
                  "filer_org_name": "The Bank of New York Mellon Corp.",
                  "originator_bank_country": "Singapore",
                  "beneficiary_bank_country": "Switzerland",
                  "filer_org_name_id": "the-bank-of-new-york-mellon-corp",
                  "beneficiary_bank": "Investec Bank",
                  "end": "2015-06-29T00:00:00.000000",
                  "origin_lng": "103.8",
                  "originator_bank_id": "cimb-bank-berhad",
                  "id": "238365",
                  "begin": "2015-04-29T00:00:00.000000",
                  "sar_id": "3297",
                  "label": "Filing"
                },
                "color": "#4CAF50",
                "styles": {},
                "label": "Filing",
                "scale_factor": 1,
                "type": "#4CAF50",
                "size": [
                  55,
                  55
                ],
                "position": [
                  0,
                  0
                ],
                "coordinates": [
                  "47",
                  "8"
                ]
              },
              {
                "id": 3918,
                "properties": {
                  "end_date": "May 11, 2015",
                  "amount": 22590000,
                  "beneficiary_iso": "HKG",
                  "beneficiary_lng": "114.1667",
                  "begin_date": "Apr 8, 2015",
                  "originator_bank": "CIMB Bank Berhad",
                  "beneficiary_lat": "22.25",
                  "begin_date_format": "2015-04-08T00:00:00Z",
                  "beneficiary_bank_id": "dbs-bank-hong-kong-limited-hong-kong-hkg",
                  "end_date_format": "2015-05-11T00:00:00Z",
                  "originator_iso": "SGP",
                  "origin_lat": "1.3667",
                  "number": 23,
                  "filer_org_name": "The Bank of New York Mellon Corp.",
                  "originator_bank_country": "Singapore",
                  "beneficiary_bank": "DBS Bank",
                  "beneficiary_bank_country": "Hong Kong",
                  "filer_org_name_id": "the-bank-of-new-york-mellon-corp",
                  "end": "2015-05-11T00:00:00.000000",
                  "origin_lng": "103.8",
                  "originator_bank_id": "cimb-bank-berhad",
                  "id": "238366",
                  "begin": "2015-04-08T00:00:00.000000",
                  "sar_id": "3297",
                  "label": "Filing"
                },
                "color": "#4CAF50",
                "styles": {},
                "label": "Filing",
                "scale_factor": 1,
                "type": "#4CAF50",
                "size": [
                  55,
                  55
                ],
                "position": [
                  0,
                  0
                ],
                "coordinates": [
                  "22.25",
                  "114.1667"
                ]
              },
              {
                "id": 3017,
                "properties": {
                  "end_date": "Sep 15, 2015",
                  "amount": 556355,
                  "beneficiary_iso": "SGP",
                  "beneficiary_lng": "103.8",
                  "begin_date": "Sep 15, 2015",
                  "originator_bank": "Bank of Communications",
                  "beneficiary_lat": "1.3667",
                  "begin_date_format": "2015-09-15T00:00:00Z",
                  "beneficiary_bank_id": "united-overseas-bank-limited-singapore-sgp",
                  "end_date_format": "2015-09-15T00:00:00Z",
                  "originator_iso": "CHN",
                  "origin_lat": "35",
                  "number": 1,
                  "filer_org_name": "The Bank of New York Mellon Corp.",
                  "originator_bank_country": "China",
                  "beneficiary_bank_country": "Singapore",
                  "beneficiary_bank": "United Overseas Bank Limited",
                  "filer_org_name_id": "the-bank-of-new-york-mellon-corp",
                  "end": "2015-09-15T00:00:00.000000",
                  "origin_lng": "105",
                  "originator_bank_id": "bank-of-communications",
                  "id": "235494",
                  "begin": "2015-09-15T00:00:00.000000",
                  "sar_id": "3295",
                  "label": "Filing"
                },
                "color": "#4CAF50",
                "styles": {},
                "label": "Filing",
                "scale_factor": 1,
                "type": "#4CAF50",
                "size": [
                  55,
                  55
                ],
                "position": [
                  0,
                  0
                ],
                "coordinates": [
                  "1.3667",
                  "103.8"
                ]
              },
              {
                "id": 5071,
                "properties": {
                  "country": "KHM",
                  "name": "CIMB Bank Plc",
                  "location": {
                    "x": 105,
                    "y": 13,
                    "z": 0
                  },
                  "id": "cimb-bank-plc-phnom-penh-cambodia-khm",
                  "label": "Entity"
                },
                "color": "#2196F3",
                "styles": {},
                "label": "CIMB Bank Plc",
                "scale_factor": 1,
                "type": "#2196F3",
                "size": [
                  55,
                  55
                ],
                "position": [
                  0,
                  0
                ],
                "coordinates": [
                  13,
                  105
                ]
              },
              {
                "id": 330,
                "properties": {
                  "code": "KHM",
                  "name": "Cambodia",
                  "location": {
                    "x": 105,
                    "y": 13,
                    "z": 0
                  },
                  "tld": "KH",
                  "label": "Country"
                },
                "color": "#F44336",
                "styles": {},
                "label": "Cambodia",
                "scale_factor": 1,
                "type": "#F44336",
                "size": [
                  55,
                  55
                ],
                "position": [
                  0,
                  0
                ],
                "coordinates": [
                  13,
                  105
                ]
              },
              {
                "id": 3018,
                "properties": {
                  "end_date": "Jul 20, 2015",
                  "amount": 1046936,
                  "beneficiary_iso": "SGP",
                  "beneficiary_lng": "103.8",
                  "begin_date": "Jun 15, 2015",
                  "originator_bank": "Bank of Communications",
                  "beneficiary_lat": "1.3667",
                  "begin_date_format": "2015-06-15T00:00:00Z",
                  "beneficiary_bank_id": "united-overseas-bank-limited-singapore-sgp",
                  "end_date_format": "2015-07-20T00:00:00Z",
                  "originator_iso": "CHN",
                  "origin_lat": "35",
                  "number": 2,
                  "filer_org_name": "The Bank of New York Mellon Corp.",
                  "originator_bank_country": "China",
                  "beneficiary_bank_country": "Singapore",
                  "beneficiary_bank": "United Overseas Bank Limited",
                  "filer_org_name_id": "the-bank-of-new-york-mellon-corp",
                  "end": "2015-07-20T00:00:00.000000",
                  "origin_lng": "105",
                  "originator_bank_id": "bank-of-communications",
                  "id": "235497",
                  "begin": "2015-06-15T00:00:00.000000",
                  "sar_id": "3295",
                  "label": "Filing"
                },
                "color": "#4CAF50",
                "styles": {},
                "label": "Filing",
                "scale_factor": 1,
                "type": "#4CAF50",
                "size": [
                  55,
                  55
                ],
                "position": [
                  0,
                  0
                ],
                "coordinates": [
                  "1.3667",
                  "103.8"
                ]
              },
              {
                "id": 3019,
                "properties": {
                  "end_date": "Aug 27, 2015",
                  "amount": 1569990,
                  "beneficiary_iso": "SGP",
                  "beneficiary_lng": "103.8",
                  "begin_date": "Mar 31, 2015",
                  "originator_bank": "Bank of Communications",
                  "beneficiary_lat": "1.3667",
                  "begin_date_format": "2015-03-31T00:00:00Z",
                  "beneficiary_bank_id": "united-overseas-bank-limited-singapore-sgp",
                  "end_date_format": "2015-08-27T00:00:00Z",
                  "originator_iso": "CHN",
                  "origin_lat": "35",
                  "number": 2,
                  "filer_org_name": "The Bank of New York Mellon Corp.",
                  "originator_bank_country": "China",
                  "beneficiary_bank_country": "Singapore",
                  "beneficiary_bank": "United Overseas Bank Limited",
                  "filer_org_name_id": "the-bank-of-new-york-mellon-corp",
                  "end": "2015-08-27T00:00:00.000000",
                  "origin_lng": "105",
                  "originator_bank_id": "bank-of-communications",
                  "id": "235498",
                  "begin": "2015-03-31T00:00:00.000000",
                  "sar_id": "3295",
                  "label": "Filing"
                },
                "color": "#4CAF50",
                "styles": {},
                "label": "Filing",
                "scale_factor": 1,
                "type": "#4CAF50",
                "size": [
                  55,
                  55
                ],
                "position": [
                  0,
                  0
                ],
                "coordinates": [
                  "1.3667",
                  "103.8"
                ]
              },
              {
                "id": 3020,
                "properties": {
                  "end_date": "Sep 7, 2015",
                  "amount": 655556,
                  "beneficiary_iso": "SGP",
                  "beneficiary_lng": "103.8",
                  "begin_date": "Jul 1, 2015",
                  "originator_bank": "Bank of Communications",
                  "beneficiary_lat": "1.3667",
                  "begin_date_format": "2015-07-01T00:00:00Z",
                  "beneficiary_bank_id": "united-overseas-bank-limited-singapore-sgp",
                  "originator_iso": "CHN",
                  "end_date_format": "2015-09-07T00:00:00Z",
                  "origin_lat": "35",
                  "number": 3,
                  "filer_org_name": "The Bank of New York Mellon Corp.",
                  "originator_bank_country": "China",
                  "beneficiary_bank": "United Overseas Bank Limited",
                  "filer_org_name_id": "the-bank-of-new-york-mellon-corp",
                  "beneficiary_bank_country": "Singapore",
                  "end": "2015-09-07T00:00:00.000000",
                  "origin_lng": "105",
                  "originator_bank_id": "bank-of-communications",
                  "id": "235499",
                  "begin": "2015-07-01T00:00:00.000000",
                  "sar_id": "3295",
                  "label": "Filing"
                },
                "color": "#4CAF50",
                "styles": {},
                "label": "Filing",
                "scale_factor": 1,
                "type": "#4CAF50",
                "size": [
                  55,
                  55
                ],
                "position": [
                  0,
                  0
                ],
                "coordinates": [
                  "1.3667",
                  "103.8"
                ]
              },
              {
                "id": 3021,
                "properties": {
                  "end_date": "Jul 20, 2015",
                  "amount": 1539216.18,
                  "beneficiary_iso": "SGP",
                  "beneficiary_lng": "103.8",
                  "begin_date": "Mar 16, 2015",
                  "originator_bank": "Bank of Communications",
                  "beneficiary_lat": "1.3667",
                  "begin_date_format": "2015-03-16T00:00:00Z",
                  "beneficiary_bank_id": "united-overseas-bank-limited-singapore-sgp",
                  "end_date_format": "2015-07-20T00:00:00Z",
                  "originator_iso": "CHN",
                  "origin_lat": "35",
                  "number": 4,
                  "filer_org_name": "The Bank of New York Mellon Corp.",
                  "originator_bank_country": "China",
                  "beneficiary_bank_country": "Singapore",
                  "beneficiary_bank": "United Overseas Bank Limited",
                  "filer_org_name_id": "the-bank-of-new-york-mellon-corp",
                  "end": "2015-07-20T00:00:00.000000",
                  "origin_lng": "105",
                  "originator_bank_id": "bank-of-communications",
                  "id": "235500",
                  "begin": "2015-03-16T00:00:00.000000",
                  "sar_id": "3295",
                  "label": "Filing"
                },
                "color": "#4CAF50",
                "styles": {},
                "label": "Filing",
                "scale_factor": 1,
                "type": "#4CAF50",
                "size": [
                  55,
                  55
                ],
                "position": [
                  0,
                  0
                ],
                "coordinates": [
                  "1.3667",
                  "103.8"
                ]
              },
              {
                "id": 3022,
                "properties": {
                  "end_date": "Sep 14, 2015",
                  "amount": 6139040,
                  "beneficiary_iso": "CHN",
                  "beneficiary_lng": "105",
                  "begin_date": "Apr 13, 2015",
                  "originator_bank": "Bank of Hebei Tangshan Branch",
                  "beneficiary_lat": "35",
                  "begin_date_format": "2015-04-13T00:00:00Z",
                  "beneficiary_bank_id": "bank-of-communications-shanghai-china-chn",
                  "end_date_format": "2015-09-14T00:00:00Z",
                  "originator_iso": "CHN",
                  "origin_lat": "35",
                  "number": 23,
                  "filer_org_name": "The Bank of New York Mellon Corp.",
                  "originator_bank_country": "China",
                  "beneficiary_bank_country": "China",
                  "beneficiary_bank": "Bank of Communications",
                  "filer_org_name_id": "the-bank-of-new-york-mellon-corp",
                  "end": "2015-09-14T00:00:00.000000",
                  "origin_lng": "105",
                  "originator_bank_id": "bank-of-hebei-tangshan-branch",
                  "id": "235501",
                  "begin": "2015-04-13T00:00:00.000000",
                  "sar_id": "3295",
                  "label": "Filing"
                },
                "color": "#4CAF50",
                "styles": {},
                "label": "Filing",
                "scale_factor": 1,
                "type": "#4CAF50",
                "size": [
                  55,
                  55
                ],
                "position": [
                  0,
                  0
                ],
                "coordinates": [
                  "35",
                  "105"
                ]
              },
              {
                "id": 3023,
                "properties": {
                  "end_date": "Sep 10, 2010",
                  "amount": 815684.03,
                  "beneficiary_iso": "SGP",
                  "beneficiary_lng": "103.8",
                  "begin_date": "Sep 10, 2010",
                  "originator_bank": "Industrial And Commercial Bank of China",
                  "beneficiary_lat": "1.3667",
                  "begin_date_format": "2010-09-10T00:00:00Z",
                  "beneficiary_bank_id": "citibank-na-singapore-sgp",
                  "end_date_format": "2010-09-10T00:00:00Z",
                  "originator_iso": "CHN",
                  "origin_lat": "35",
                  "number": 1,
                  "filer_org_name": "The Bank of New York Mellon Corp.",
                  "originator_bank_country": "China",
                  "beneficiary_bank_country": "Singapore",
                  "filer_org_name_id": "the-bank-of-new-york-mellon-corp",
                  "beneficiary_bank": "Citibank, N.A.",
                  "end": "2010-09-10T00:00:00.000000",
                  "origin_lng": "105",
                  "originator_bank_id": "industrial-and-commercial-bank-of-china",
                  "id": "235502",
                  "begin": "2010-09-10T00:00:00.000000",
                  "sar_id": "3295",
                  "label": "Filing"
                },
                "color": "#4CAF50",
                "styles": {},
                "label": "Filing",
                "scale_factor": 1,
                "type": "#4CAF50",
                "size": [
                  55,
                  55
                ],
                "position": [
                  0,
                  0
                ],
                "coordinates": [
                  "1.3667",
                  "103.8"
                ]
              }
            ],
            "_overview": {
              "enabled": null,
              "overview_set": false
            },
            "_selected_graph": [
              [
                {
                  "id": 3022,
                  "properties": {
                    "end_date": "Sep 14, 2015",
                    "amount": 6139040,
                    "beneficiary_iso": "CHN",
                    "beneficiary_lng": "105",
                    "begin_date": "Apr 13, 2015",
                    "originator_bank": "Bank of Hebei Tangshan Branch",
                    "beneficiary_lat": "35",
                    "begin_date_format": "2015-04-13T00:00:00Z",
                    "beneficiary_bank_id": "bank-of-communications-shanghai-china-chn",
                    "end_date_format": "2015-09-14T00:00:00Z",
                    "originator_iso": "CHN",
                    "origin_lat": "35",
                    "number": 23,
                    "filer_org_name": "The Bank of New York Mellon Corp.",
                    "originator_bank_country": "China",
                    "beneficiary_bank_country": "China",
                    "beneficiary_bank": "Bank of Communications",
                    "filer_org_name_id": "the-bank-of-new-york-mellon-corp",
                    "end": "2015-09-14T00:00:00.000000",
                    "origin_lng": "105",
                    "originator_bank_id": "bank-of-hebei-tangshan-branch",
                    "id": "235501",
                    "begin": "2015-04-13T00:00:00.000000",
                    "sar_id": "3295",
                    "label": "Filing"
                  }
                }
              ],
              []
            ],
            "_sidebar": {
              "enabled": false,
              "start_with": null
            },
            "_view_count": null,
            "_view_module": "yfiles-jupyter-graphs",
            "_view_module_version": "^1.10.1",
            "_view_name": "GraphView",
            "layout": "IPY_MODEL_edd7f6629c6f4130a300dbc1f45f7fd7",
            "tabbable": null,
            "tooltip": null
          }
        },
        "edd7f6629c6f4130a300dbc1f45f7fd7": {
          "model_module": "@jupyter-widgets/base",
          "model_name": "LayoutModel",
          "model_module_version": "2.0.0",
          "state": {
            "_model_module": "@jupyter-widgets/base",
            "_model_module_version": "2.0.0",
            "_model_name": "LayoutModel",
            "_view_count": null,
            "_view_module": "@jupyter-widgets/base",
            "_view_module_version": "2.0.0",
            "_view_name": "LayoutView",
            "align_content": null,
            "align_items": null,
            "align_self": null,
            "border_bottom": null,
            "border_left": null,
            "border_right": null,
            "border_top": null,
            "bottom": null,
            "display": null,
            "flex": null,
            "flex_flow": null,
            "grid_area": null,
            "grid_auto_columns": null,
            "grid_auto_flow": null,
            "grid_auto_rows": null,
            "grid_column": null,
            "grid_gap": null,
            "grid_row": null,
            "grid_template_areas": null,
            "grid_template_columns": null,
            "grid_template_rows": null,
            "height": "800px",
            "justify_content": null,
            "justify_items": null,
            "left": null,
            "margin": null,
            "max_height": null,
            "max_width": null,
            "min_height": null,
            "min_width": null,
            "object_fit": null,
            "object_position": null,
            "order": null,
            "overflow": null,
            "padding": null,
            "right": null,
            "top": null,
            "visibility": null,
            "width": "100%"
          }
        },
        "7abbd8bfb00a47b6a2418965dfc54bb8": {
          "model_module": "yfiles-jupyter-graphs",
          "model_name": "GraphModel",
          "model_module_version": "^1.10.1",
          "state": {
            "_context_pane_mapping": [
              {
                "id": "Neighborhood",
                "title": "Neighborhood"
              },
              {
                "id": "Data",
                "title": "Data"
              },
              {
                "id": "Search",
                "title": "Search"
              },
              {
                "id": "About",
                "title": "About"
              }
            ],
            "_data_importer": "neo4j",
            "_directed": true,
            "_dom_classes": [],
            "_edges": [
              {
                "id": 0,
                "start": 5056,
                "end": 2645,
                "properties": {
                  "label": "FILED"
                },
                "color": "#607D8B",
                "thickness_factor": 2,
                "directed": true,
                "styles": {},
                "label": "FILED"
              },
              {
                "id": 1,
                "start": 2645,
                "end": 5068,
                "properties": {
                  "label": "CONCERNS"
                },
                "color": "#673AB7",
                "thickness_factor": 0.5,
                "directed": true,
                "styles": {},
                "label": "CONCERNS"
              },
              {
                "id": 2,
                "start": 5068,
                "end": 338,
                "properties": {
                  "label": "COUNTRY"
                },
                "color": "#CDDC39",
                "thickness_factor": 1,
                "directed": true,
                "styles": {},
                "label": "COUNTRY"
              },
              {
                "id": 3,
                "start": 5056,
                "end": 2646,
                "properties": {
                  "label": "FILED"
                },
                "color": "#607D8B",
                "thickness_factor": 2,
                "directed": true,
                "styles": {},
                "label": "FILED"
              },
              {
                "id": 4,
                "start": 2646,
                "end": 5068,
                "properties": {
                  "label": "CONCERNS"
                },
                "color": "#673AB7",
                "thickness_factor": 0.5,
                "directed": true,
                "styles": {},
                "label": "CONCERNS"
              },
              {
                "id": 5,
                "start": 5056,
                "end": 2647,
                "properties": {
                  "label": "FILED"
                },
                "color": "#607D8B",
                "thickness_factor": 2,
                "directed": true,
                "styles": {},
                "label": "FILED"
              },
              {
                "id": 6,
                "start": 2647,
                "end": 5068,
                "properties": {
                  "label": "CONCERNS"
                },
                "color": "#673AB7",
                "thickness_factor": 0.5,
                "directed": true,
                "styles": {},
                "label": "CONCERNS"
              },
              {
                "id": 7,
                "start": 5056,
                "end": 2648,
                "properties": {
                  "label": "FILED"
                },
                "color": "#607D8B",
                "thickness_factor": 2,
                "directed": true,
                "styles": {},
                "label": "FILED"
              },
              {
                "id": 8,
                "start": 2648,
                "end": 5068,
                "properties": {
                  "label": "CONCERNS"
                },
                "color": "#673AB7",
                "thickness_factor": 0.5,
                "directed": true,
                "styles": {},
                "label": "CONCERNS"
              },
              {
                "id": 9,
                "start": 5056,
                "end": 2649,
                "properties": {
                  "label": "FILED"
                },
                "color": "#607D8B",
                "thickness_factor": 2,
                "directed": true,
                "styles": {},
                "label": "FILED"
              },
              {
                "id": 10,
                "start": 2649,
                "end": 5068,
                "properties": {
                  "label": "CONCERNS"
                },
                "color": "#673AB7",
                "thickness_factor": 0.5,
                "directed": true,
                "styles": {},
                "label": "CONCERNS"
              },
              {
                "id": 11,
                "start": 5056,
                "end": 2650,
                "properties": {
                  "label": "FILED"
                },
                "color": "#607D8B",
                "thickness_factor": 2,
                "directed": true,
                "styles": {},
                "label": "FILED"
              },
              {
                "id": 12,
                "start": 2650,
                "end": 5068,
                "properties": {
                  "label": "CONCERNS"
                },
                "color": "#673AB7",
                "thickness_factor": 0.5,
                "directed": true,
                "styles": {},
                "label": "CONCERNS"
              },
              {
                "id": 13,
                "start": 5056,
                "end": 2651,
                "properties": {
                  "label": "FILED"
                },
                "color": "#607D8B",
                "thickness_factor": 2,
                "directed": true,
                "styles": {},
                "label": "FILED"
              },
              {
                "id": 14,
                "start": 2651,
                "end": 5068,
                "properties": {
                  "label": "CONCERNS"
                },
                "color": "#673AB7",
                "thickness_factor": 0.5,
                "directed": true,
                "styles": {},
                "label": "CONCERNS"
              },
              {
                "id": 15,
                "start": 5056,
                "end": 2652,
                "properties": {
                  "label": "FILED"
                },
                "color": "#607D8B",
                "thickness_factor": 2,
                "directed": true,
                "styles": {},
                "label": "FILED"
              },
              {
                "id": 16,
                "start": 2652,
                "end": 5068,
                "properties": {
                  "label": "CONCERNS"
                },
                "color": "#673AB7",
                "thickness_factor": 0.5,
                "directed": true,
                "styles": {},
                "label": "CONCERNS"
              },
              {
                "id": 17,
                "start": 5056,
                "end": 2653,
                "properties": {
                  "label": "FILED"
                },
                "color": "#607D8B",
                "thickness_factor": 2,
                "directed": true,
                "styles": {},
                "label": "FILED"
              },
              {
                "id": 18,
                "start": 2653,
                "end": 5068,
                "properties": {
                  "label": "CONCERNS"
                },
                "color": "#673AB7",
                "thickness_factor": 0.5,
                "directed": true,
                "styles": {},
                "label": "CONCERNS"
              },
              {
                "id": 19,
                "start": 5057,
                "end": 2263,
                "properties": {
                  "label": "FILED"
                },
                "color": "#607D8B",
                "thickness_factor": 2,
                "directed": true,
                "styles": {},
                "label": "FILED"
              },
              {
                "id": 20,
                "start": 2263,
                "end": 5069,
                "properties": {
                  "label": "CONCERNS"
                },
                "color": "#673AB7",
                "thickness_factor": 0.5,
                "directed": true,
                "styles": {},
                "label": "CONCERNS"
              },
              {
                "id": 21,
                "start": 5069,
                "end": 350,
                "properties": {
                  "label": "COUNTRY"
                },
                "color": "#CDDC39",
                "thickness_factor": 1,
                "directed": true,
                "styles": {},
                "label": "COUNTRY"
              },
              {
                "id": 22,
                "start": 5056,
                "end": 549,
                "properties": {
                  "label": "FILED"
                },
                "color": "#607D8B",
                "thickness_factor": 2,
                "directed": true,
                "styles": {},
                "label": "FILED"
              },
              {
                "id": 23,
                "start": 549,
                "end": 5070,
                "properties": {
                  "label": "CONCERNS"
                },
                "color": "#673AB7",
                "thickness_factor": 0.5,
                "directed": true,
                "styles": {},
                "label": "CONCERNS"
              },
              {
                "id": 24,
                "start": 5070,
                "end": 454,
                "properties": {
                  "label": "COUNTRY"
                },
                "color": "#CDDC39",
                "thickness_factor": 1,
                "directed": true,
                "styles": {},
                "label": "COUNTRY"
              }
            ],
            "_graph_layout": {
              "algorithm": "organic",
              "options": {}
            },
            "_highlight": [],
            "_license": {},
            "_model_module": "yfiles-jupyter-graphs",
            "_model_module_version": "^1.10.1",
            "_model_name": "GraphModel",
            "_neighborhood": {},
            "_nodes": [
              {
                "id": 5056,
                "properties": {
                  "name": "The Bank of New York Mellon Corp.",
                  "location": {
                    "x": -73.987862,
                    "y": 40.777571,
                    "z": 0
                  },
                  "id": "the-bank-of-new-york-mellon-corp",
                  "label": "Entity"
                },
                "color": "#2196F3",
                "styles": {},
                "label": "The Bank of New York Mellon Corp.",
                "scale_factor": 1,
                "type": "#2196F3",
                "size": [
                  55,
                  55
                ],
                "position": [
                  0,
                  0
                ]
              },
              {
                "id": 2645,
                "properties": {
                  "end_date": "Oct 13, 2015",
                  "amount": 2741500,
                  "beneficiary_iso": "SGP",
                  "beneficiary_lng": "103.8",
                  "begin_date": "Oct 2, 2015",
                  "originator_bank": "HSBC Hong Kong",
                  "beneficiary_lat": "1.3667",
                  "begin_date_format": "2015-10-02T00:00:00Z",
                  "originator_iso": "HKG",
                  "beneficiary_bank_id": "dbs-bank-ltd-singapore-sgp",
                  "end_date_format": "2015-10-13T00:00:00Z",
                  "origin_lat": "22.25",
                  "number": 4,
                  "filer_org_name": "The Bank of New York Mellon Corp.",
                  "originator_bank_country": "Hong Kong",
                  "beneficiary_bank": "DBS Bank Ltd",
                  "beneficiary_bank_country": "Singapore",
                  "filer_org_name_id": "the-bank-of-new-york-mellon-corp",
                  "end": "2015-10-13T00:00:00.000000",
                  "origin_lng": "114.1667",
                  "originator_bank_id": "hsbc-hong-kong",
                  "id": "234293",
                  "begin": "2015-10-02T00:00:00.000000",
                  "sar_id": "4293",
                  "label": "Filing"
                },
                "color": "#4CAF50",
                "styles": {},
                "label": "Filing",
                "scale_factor": 1,
                "type": "#4CAF50",
                "size": [
                  57.440544980184015,
                  57.440544980184015
                ],
                "position": [
                  0,
                  0
                ]
              },
              {
                "id": 5068,
                "properties": {
                  "country": "CHN",
                  "name": "China Construction Bank Corporation",
                  "location": {
                    "x": 105,
                    "y": 35,
                    "z": 0
                  },
                  "id": "china-construction-bank-corporation-beijing-china-chn",
                  "label": "Entity"
                },
                "color": "#2196F3",
                "styles": {},
                "label": "China Construction Bank Corporation",
                "scale_factor": 1,
                "type": "#2196F3",
                "size": [
                  55,
                  55
                ],
                "position": [
                  0,
                  0
                ]
              },
              {
                "id": 338,
                "properties": {
                  "code": "CHN",
                  "name": "China",
                  "location": {
                    "x": 105,
                    "y": 35,
                    "z": 0
                  },
                  "tld": "CN",
                  "label": "Country"
                },
                "color": "#F44336",
                "styles": {},
                "label": "China",
                "scale_factor": 1,
                "type": "#F44336",
                "size": [
                  55,
                  55
                ],
                "position": [
                  0,
                  0
                ],
                "coordinates": [
                  35,
                  105
                ]
              },
              {
                "id": 2646,
                "properties": {
                  "end_date": "Oct 27, 2015",
                  "amount": 3240000,
                  "beneficiary_iso": "SGP",
                  "beneficiary_lng": "103.8",
                  "begin_date": "Oct 27, 2015",
                  "originator_bank": "Bank of Taiwan",
                  "beneficiary_lat": "1.3667",
                  "begin_date_format": "2015-10-27T00:00:00Z",
                  "beneficiary_bank_id": "dbs-bank-ltd-singapore-sgp",
                  "end_date_format": "2015-10-27T00:00:00Z",
                  "originator_iso": "TWN",
                  "origin_lat": "23.5",
                  "number": 1,
                  "filer_org_name": "The Bank of New York Mellon Corp.",
                  "originator_bank_country": "Taiwan",
                  "beneficiary_bank_country": "Singapore",
                  "filer_org_name_id": "the-bank-of-new-york-mellon-corp",
                  "beneficiary_bank": "DBS Bank Ltd",
                  "end": "2015-10-27T00:00:00.000000",
                  "origin_lng": "121",
                  "originator_bank_id": "bank-of-taiwan",
                  "id": "234294",
                  "begin": "2015-10-27T00:00:00.000000",
                  "sar_id": "4293",
                  "label": "Filing"
                },
                "color": "#4CAF50",
                "styles": {},
                "label": "Filing",
                "scale_factor": 1,
                "type": "#4CAF50",
                "size": [
                  57.886486119251096,
                  57.886486119251096
                ],
                "position": [
                  0,
                  0
                ]
              },
              {
                "id": 2647,
                "properties": {
                  "end_date": "Oct 23, 2015",
                  "amount": 3397070,
                  "beneficiary_iso": "CZE",
                  "beneficiary_lng": "15.5",
                  "begin_date": "Oct 23, 2015",
                  "originator_bank": "J And T Bank And Trust",
                  "beneficiary_lat": "49.75",
                  "begin_date_format": "2015-10-23T00:00:00Z",
                  "beneficiary_bank_id": "ppf-banka-as-prague-czech-republic-cze",
                  "end_date_format": "2015-10-23T00:00:00Z",
                  "originator_iso": "BRB",
                  "origin_lat": "13.1667",
                  "number": 1,
                  "filer_org_name": "The Bank of New York Mellon Corp.",
                  "originator_bank_country": "Barbados",
                  "beneficiary_bank": "PPF Banka A.S.",
                  "beneficiary_bank_country": "Czech Republic",
                  "filer_org_name_id": "the-bank-of-new-york-mellon-corp",
                  "end": "2015-10-23T00:00:00.000000",
                  "origin_lng": "-59.5333",
                  "originator_bank_id": "j-and-t-bank-and-trust",
                  "id": "234295",
                  "begin": "2015-10-23T00:00:00.000000",
                  "sar_id": "4293",
                  "label": "Filing"
                },
                "color": "#4CAF50",
                "styles": {},
                "label": "Filing",
                "scale_factor": 1,
                "type": "#4CAF50",
                "size": [
                  58.026601979519434,
                  58.026601979519434
                ],
                "position": [
                  0,
                  0
                ]
              },
              {
                "id": 2648,
                "properties": {
                  "end_date": "Oct 15, 2015",
                  "amount": 3500000,
                  "beneficiary_iso": "CHN",
                  "beneficiary_lng": "105",
                  "begin_date": "Oct 7, 2015",
                  "originator_bank": "Taishin International Bank",
                  "beneficiary_lat": "35",
                  "begin_date_format": "2015-10-07T00:00:00Z",
                  "end_date_format": "2015-10-15T00:00:00Z",
                  "originator_iso": "TWN",
                  "beneficiary_bank_id": "foshan-shunde-rural-commercial-bk-co-ltd-shunde-china-chn",
                  "origin_lat": "23.5",
                  "number": 3,
                  "filer_org_name": "The Bank of New York Mellon Corp.",
                  "originator_bank_country": "Taiwan",
                  "beneficiary_bank": "Foshan Shunde Rural Commercial Bk Co Ltd",
                  "beneficiary_bank_country": "China",
                  "filer_org_name_id": "the-bank-of-new-york-mellon-corp",
                  "end": "2015-10-15T00:00:00.000000",
                  "origin_lng": "121",
                  "originator_bank_id": "taishin-international-bank",
                  "id": "234296",
                  "begin": "2015-10-07T00:00:00.000000",
                  "sar_id": "4293",
                  "label": "Filing"
                },
                "color": "#4CAF50",
                "styles": {},
                "label": "Filing",
                "scale_factor": 1,
                "type": "#4CAF50",
                "size": [
                  58.11831941230203,
                  58.11831941230203
                ],
                "position": [
                  0,
                  0
                ]
              },
              {
                "id": 2649,
                "properties": {
                  "end_date": "Oct 29, 2015",
                  "amount": 3561111.36,
                  "beneficiary_iso": "CHN",
                  "beneficiary_lng": "105",
                  "begin_date": "Oct 13, 2015",
                  "originator_bank": "CTBC Bank Co Ltd",
                  "beneficiary_lat": "35",
                  "begin_date_format": "2015-10-13T00:00:00Z",
                  "beneficiary_bank_id": "china-construction-bank-corporation-guangdong-china-chn",
                  "end_date_format": "2015-10-29T00:00:00Z",
                  "originator_iso": "HKG",
                  "origin_lat": "22.25",
                  "number": 3,
                  "filer_org_name": "The Bank of New York Mellon Corp.",
                  "originator_bank_country": "Hong Kong",
                  "beneficiary_bank": "China Construction Bank Corporation",
                  "filer_org_name_id": "the-bank-of-new-york-mellon-corp",
                  "beneficiary_bank_country": "China",
                  "end": "2015-10-29T00:00:00.000000",
                  "origin_lng": "114.1667",
                  "originator_bank_id": "ctbc-bank-co-ltd",
                  "id": "234297",
                  "begin": "2015-10-13T00:00:00.000000",
                  "sar_id": "4293",
                  "label": "Filing"
                },
                "color": "#4CAF50",
                "styles": {},
                "label": "Filing",
                "scale_factor": 1,
                "type": "#4CAF50",
                "size": [
                  58.17273535193591,
                  58.17273535193591
                ],
                "position": [
                  0,
                  0
                ]
              },
              {
                "id": 2650,
                "properties": {
                  "end_date": "Oct 29, 2015",
                  "amount": 2993552.18,
                  "beneficiary_iso": "CHN",
                  "beneficiary_lng": "105",
                  "begin_date": "Oct 27, 2015",
                  "originator_bank": "SCSB Savings Department Branch",
                  "beneficiary_lat": "35",
                  "begin_date_format": "2015-10-27T00:00:00Z",
                  "beneficiary_bank_id": "ping-an-bank-co-ltd-east-shenzhen-china-chn",
                  "originator_iso": "TWN",
                  "end_date_format": "2015-10-29T00:00:00Z",
                  "origin_lat": "23.5",
                  "number": 3,
                  "filer_org_name": "The Bank of New York Mellon Corp.",
                  "originator_bank_country": "Taiwan",
                  "beneficiary_bank": "Ping An Bank Co Ltd",
                  "filer_org_name_id": "the-bank-of-new-york-mellon-corp",
                  "beneficiary_bank_country": "China",
                  "end": "2015-10-29T00:00:00.000000",
                  "origin_lng": "121",
                  "originator_bank_id": "scsb-savings-department-branch",
                  "id": "234298",
                  "begin": "2015-10-27T00:00:00.000000",
                  "sar_id": "4293",
                  "label": "Filing"
                },
                "color": "#4CAF50",
                "styles": {},
                "label": "Filing",
                "scale_factor": 1,
                "type": "#4CAF50",
                "size": [
                  57.66625973758406,
                  57.66625973758406
                ],
                "position": [
                  0,
                  0
                ]
              },
              {
                "id": 2651,
                "properties": {
                  "end_date": "Oct 9, 2015",
                  "amount": 5870272.71,
                  "beneficiary_lng": "103.8",
                  "beneficiary_iso": "SGP",
                  "begin_date": "Oct 5, 2015",
                  "originator_bank": "HSBC Singapore General Account",
                  "beneficiary_lat": "1.3667",
                  "begin_date_format": "2015-10-05T00:00:00Z",
                  "beneficiary_bank_id": "dbs-bank-ltd-singapore-sgp",
                  "end_date_format": "2015-10-09T00:00:00Z",
                  "originator_iso": "SGP",
                  "origin_lat": "1.3667",
                  "number": 3,
                  "filer_org_name": "The Bank of New York Mellon Corp.",
                  "originator_bank_country": "Singapore",
                  "beneficiary_bank_country": "Singapore",
                  "filer_org_name_id": "the-bank-of-new-york-mellon-corp",
                  "beneficiary_bank": "DBS Bank Ltd",
                  "end": "2015-10-09T00:00:00.000000",
                  "origin_lng": "103.8",
                  "originator_bank_id": "hsbc-singapore-general-account",
                  "id": "234300",
                  "begin": "2015-10-05T00:00:00.000000",
                  "sar_id": "4293",
                  "label": "Filing"
                },
                "color": "#4CAF50",
                "styles": {},
                "label": "Filing",
                "scale_factor": 1,
                "type": "#4CAF50",
                "size": [
                  60.207980168134014,
                  60.207980168134014
                ],
                "position": [
                  0,
                  0
                ]
              },
              {
                "id": 2652,
                "properties": {
                  "end_date": "Oct 23, 2015",
                  "amount": 4967922.12,
                  "beneficiary_iso": "NOR",
                  "beneficiary_lng": "10",
                  "begin_date": "Oct 23, 2015",
                  "originator_bank": "Bank of Communications",
                  "beneficiary_lat": "62",
                  "begin_date_format": "2015-10-23T00:00:00Z",
                  "beneficiary_bank_id": "skandinaviska-enskilda-banken-oslo-norway-nor",
                  "end_date_format": "2015-10-23T00:00:00Z",
                  "originator_iso": "HKG",
                  "origin_lat": "22.25",
                  "number": 2,
                  "filer_org_name": "The Bank of New York Mellon Corp.",
                  "originator_bank_country": "Hong Kong",
                  "beneficiary_bank": "Skandinaviska Enskilda Banken",
                  "filer_org_name_id": "the-bank-of-new-york-mellon-corp",
                  "beneficiary_bank_country": "Norway",
                  "end": "2015-10-23T00:00:00.000000",
                  "origin_lng": "114.1667",
                  "originator_bank_id": "bank-of-communications",
                  "id": "234301",
                  "begin": "2015-10-23T00:00:00.000000",
                  "sar_id": "4293",
                  "label": "Filing"
                },
                "color": "#4CAF50",
                "styles": {},
                "label": "Filing",
                "scale_factor": 1,
                "type": "#4CAF50",
                "size": [
                  59.41752048093741,
                  59.41752048093741
                ],
                "position": [
                  0,
                  0
                ]
              },
              {
                "id": 2653,
                "properties": {
                  "end_date": "Oct 30, 2015",
                  "amount": 15457176.81,
                  "beneficiary_iso": "IDN",
                  "beneficiary_lng": "120",
                  "begin_date": "Oct 9, 2015",
                  "originator_bank": "Icici Bank Limited",
                  "beneficiary_lat": "-5",
                  "begin_date_format": "2015-10-09T00:00:00Z",
                  "end_date_format": "2015-10-30T00:00:00Z",
                  "beneficiary_bank_id": "bank-of-india-indonesia-jakarta-indonesia-idn",
                  "originator_iso": "SGP",
                  "origin_lat": "1.3667",
                  "number": 4,
                  "filer_org_name": "The Bank of New York Mellon Corp.",
                  "originator_bank_country": "Singapore",
                  "beneficiary_bank_country": "Indonesia",
                  "beneficiary_bank": "Bank of India Indonesia",
                  "filer_org_name_id": "the-bank-of-new-york-mellon-corp",
                  "end": "2015-10-30T00:00:00.000000",
                  "origin_lng": "103.8",
                  "originator_bank_id": "icici-bank-limited",
                  "id": "234302",
                  "begin": "2015-10-09T00:00:00.000000",
                  "sar_id": "4293",
                  "label": "Filing"
                },
                "color": "#4CAF50",
                "styles": {},
                "label": "Filing",
                "scale_factor": 1,
                "type": "#4CAF50",
                "size": [
                  68.2217126088588,
                  68.2217126088588
                ],
                "position": [
                  0,
                  0
                ]
              },
              {
                "id": 5057,
                "properties": {
                  "name": "Société Générale SA",
                  "location": {
                    "x": -73.987862,
                    "y": 40.777571,
                    "z": 0
                  },
                  "id": "societe-generale-sa",
                  "label": "Entity"
                },
                "color": "#2196F3",
                "styles": {},
                "label": "Société Générale SA",
                "scale_factor": 1,
                "type": "#2196F3",
                "size": [
                  55,
                  55
                ],
                "position": [
                  0,
                  0
                ]
              },
              {
                "id": 2263,
                "properties": {
                  "end_date": "Jul 11, 2012",
                  "amount": 37733084,
                  "beneficiary_iso": "CYP",
                  "beneficiary_lng": "33",
                  "begin_date": "Jul 11, 2012",
                  "originator_bank": "SG Private Banking",
                  "beneficiary_lat": "35",
                  "begin_date_format": "2012-07-11T00:00:00Z",
                  "end_date_format": "2012-07-11T00:00:00Z",
                  "beneficiary_bank_id": "societe-generale-bank-cyprus-ltd-sg-cyprus-cyp",
                  "originator_iso": "CHE",
                  "origin_lat": "47",
                  "number": 1,
                  "filer_org_name": "Société Générale SA",
                  "originator_bank_country": "Switzerland",
                  "beneficiary_bank_country": "Cyprus",
                  "beneficiary_bank": "Societe Generale Bank Cyprus Ltd",
                  "filer_org_name_id": "societe-generale-sa",
                  "end": "2012-07-11T00:00:00.000000",
                  "origin_lng": "8",
                  "originator_bank_id": "sg-private-banking",
                  "id": "231963",
                  "begin": "2012-07-11T00:00:00.000000",
                  "sar_id": "2782",
                  "label": "Filing"
                },
                "color": "#4CAF50",
                "styles": {},
                "label": "Filing",
                "scale_factor": 1,
                "type": "#4CAF50",
                "size": [
                  84.12903558028239,
                  84.12903558028239
                ],
                "position": [
                  0,
                  0
                ]
              },
              {
                "id": 5069,
                "properties": {
                  "country": "CYP",
                  "name": "Societe Generale Bank Cyprus Ltd",
                  "location": {
                    "x": 33,
                    "y": 35,
                    "z": 0
                  },
                  "id": "societe-generale-bank-cyprus-ltd-sg-cyprus-cyp",
                  "label": "Entity"
                },
                "color": "#2196F3",
                "styles": {},
                "label": "Societe Generale Bank Cyprus Ltd",
                "scale_factor": 1,
                "type": "#2196F3",
                "size": [
                  55,
                  55
                ],
                "position": [
                  0,
                  0
                ]
              },
              {
                "id": 350,
                "properties": {
                  "code": "CYP",
                  "name": "Cyprus",
                  "location": {
                    "x": 33,
                    "y": 35,
                    "z": 0
                  },
                  "tld": "CY",
                  "label": "Country"
                },
                "color": "#F44336",
                "styles": {},
                "label": "Cyprus",
                "scale_factor": 1,
                "type": "#F44336",
                "size": [
                  55,
                  55
                ],
                "position": [
                  0,
                  0
                ],
                "coordinates": [
                  35,
                  33
                ]
              },
              {
                "id": 549,
                "properties": {
                  "end_date": "Sep 25, 2015",
                  "amount": 56898523.47,
                  "beneficiary_iso": "GBR",
                  "beneficiary_lng": "-2",
                  "begin_date": "Mar 25, 2015",
                  "originator_bank": "CIMB Bank Berhad",
                  "beneficiary_lat": "54",
                  "begin_date_format": "2015-03-25T00:00:00Z",
                  "beneficiary_bank_id": "barclays-bank-plc-london-england-gbr",
                  "end_date_format": "2015-09-25T00:00:00Z",
                  "originator_iso": "SGP",
                  "origin_lat": "1.3667",
                  "number": 68,
                  "filer_org_name": "The Bank of New York Mellon Corp.",
                  "originator_bank_country": "Singapore",
                  "beneficiary_bank_country": "United Kingdom",
                  "beneficiary_bank": "Barclays Bank Plc",
                  "filer_org_name_id": "the-bank-of-new-york-mellon-corp",
                  "end": "2015-09-25T00:00:00.000000",
                  "origin_lng": "103.8",
                  "originator_bank_id": "cimb-bank-berhad",
                  "id": "223254",
                  "begin": "2015-03-25T00:00:00.000000",
                  "sar_id": "3297",
                  "label": "Filing"
                },
                "color": "#4CAF50",
                "styles": {},
                "label": "Filing",
                "scale_factor": 1,
                "type": "#4CAF50",
                "size": [
                  94.77906862230266,
                  94.77906862230266
                ],
                "position": [
                  0,
                  0
                ]
              },
              {
                "id": 5070,
                "properties": {
                  "country": "NZL",
                  "name": "Asb Bank Limited",
                  "location": {
                    "x": 174,
                    "y": -41,
                    "z": 0
                  },
                  "id": "asb-bank-limited-auckland-new-zealand-nzl",
                  "label": "Entity"
                },
                "color": "#2196F3",
                "styles": {},
                "label": "Asb Bank Limited",
                "scale_factor": 1,
                "type": "#2196F3",
                "size": [
                  55,
                  55
                ],
                "position": [
                  0,
                  0
                ]
              },
              {
                "id": 454,
                "properties": {
                  "code": "NZL",
                  "name": "New Zealand",
                  "location": {
                    "x": 174,
                    "y": -41,
                    "z": 0
                  },
                  "tld": "NZ",
                  "label": "Country"
                },
                "color": "#F44336",
                "styles": {},
                "label": "New Zealand",
                "scale_factor": 1,
                "type": "#F44336",
                "size": [
                  55,
                  55
                ],
                "position": [
                  0,
                  0
                ],
                "coordinates": [
                  -41,
                  174
                ]
              }
            ],
            "_overview": {
              "enabled": null,
              "overview_set": false
            },
            "_selected_graph": [
              [],
              []
            ],
            "_sidebar": {
              "enabled": false,
              "start_with": null
            },
            "_view_count": null,
            "_view_module": "yfiles-jupyter-graphs",
            "_view_module_version": "^1.10.1",
            "_view_name": "GraphView",
            "layout": "IPY_MODEL_8756ed9260ac44d4935bbc5231b626d3",
            "tabbable": null,
            "tooltip": null
          }
        },
        "8756ed9260ac44d4935bbc5231b626d3": {
          "model_module": "@jupyter-widgets/base",
          "model_name": "LayoutModel",
          "model_module_version": "2.0.0",
          "state": {
            "_model_module": "@jupyter-widgets/base",
            "_model_module_version": "2.0.0",
            "_model_name": "LayoutModel",
            "_view_count": null,
            "_view_module": "@jupyter-widgets/base",
            "_view_module_version": "2.0.0",
            "_view_name": "LayoutView",
            "align_content": null,
            "align_items": null,
            "align_self": null,
            "border_bottom": null,
            "border_left": null,
            "border_right": null,
            "border_top": null,
            "bottom": null,
            "display": null,
            "flex": null,
            "flex_flow": null,
            "grid_area": null,
            "grid_auto_columns": null,
            "grid_auto_flow": null,
            "grid_auto_rows": null,
            "grid_column": null,
            "grid_gap": null,
            "grid_row": null,
            "grid_template_areas": null,
            "grid_template_columns": null,
            "grid_template_rows": null,
            "height": "690px",
            "justify_content": null,
            "justify_items": null,
            "left": null,
            "margin": null,
            "max_height": null,
            "max_width": null,
            "min_height": null,
            "min_width": null,
            "object_fit": null,
            "object_position": null,
            "order": null,
            "overflow": null,
            "padding": null,
            "right": null,
            "top": null,
            "visibility": null,
            "width": "100%"
          }
        }
      }
    }
  },
  "nbformat": 4,
  "nbformat_minor": 5
}